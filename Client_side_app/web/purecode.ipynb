{
 "cells": [
  {
   "cell_type": "markdown",
   "metadata": {},
   "source": [
    "### Wellcome to the respiratiory classifcation"
   ]
  },
  {
   "cell_type": "markdown",
   "metadata": {},
   "source": [
    "[Text field:]<br>\"This site is linked to a sophisticated neural network able to detect suspicious lung sounds and to classify them. Once you feel ready to forcedly breath through your mouth, breath out and click the start button.<br><br>Optionally, you might \" [scroll menu with] \"complete this\" [as default, followed by] \"healthy\" [, the most common acute and chronic respiratory diseases, and] \"other\", \"if you feel sure and want to contribute to improving the model\""
   ]
  },
  {
   "cell_type": "markdown",
   "metadata": {},
   "source": [
    "[Round start button titled] \"START BUTTON\""
   ]
  },
  {
   "cell_type": "markdown",
   "metadata": {},
   "source": [
    "[Recording period:<br>Once pressed, the start button turns into a clock indicating 16 Seconds and showing how many seconds have passed. The button title changes to] \"BREATH IN\" [during the first and third quarter, respectively to] \"BREATH OUT\" [during the second and fourth quarter]"
   ]
  },
  {
   "cell_type": "markdown",
   "metadata": {},
   "source": [
    "[After 16 Seconds, the recording stops. The text field changes to:] \"Thank you. Your respiration sounds\" [healthy. <b>Mind that if I have symptoms, consulting a physician is still recommendable.</b>|suspicious (crackles)|suspicious (wheezes)|suspicious (crackles and wheezes)]. You now can optionaly download a copy of the record. For more accurate results, we recommend\" [link by Louis]"
   ]
  },
  {
   "cell_type": "markdown",
   "metadata": {},
   "source": [
    "# Imports"
   ]
  },
  {
   "cell_type": "code",
   "execution_count": 1,
   "metadata": {},
   "outputs": [],
   "source": [
    "from IPython.core.display import HTML"
   ]
  },
  {
   "cell_type": "markdown",
   "metadata": {},
   "source": [
    "# CSS"
   ]
  },
  {
   "cell_type": "code",
   "execution_count": 281,
   "metadata": {
    "vscode": {
     "languageId": "html"
    }
   },
   "outputs": [
    {
     "data": {
      "text/html": [
       "<!-- CSS for the initial scenario //-->\n",
       "<style>\n",
       "p { font-size:2vmin; }\n",
       "button {\n",
       "\theight:min(70vw, 70vh); width:min(70vw, 70vh); border-radius:50%; font-size:300%;\n",
       "\tbox-shadow: -0.04em -0.04em 0 0.04em #ffffffbb, inset 0.04em 0.04em 0 0.1em #ffffff77;text-shadow: 0.04em 0.04em 0.04em yellow;\n",
       "}\n",
       ".one1 { background:#ffffdddd; }\n",
       ".one2::after { content: 'START BUTTON'; }\n",
       "</style>\n"
      ],
      "text/plain": [
       "<IPython.core.display.HTML object>"
      ]
     },
     "metadata": {},
     "output_type": "display_data"
    }
   ],
   "source": [
    "%%html\n",
    "<!-- CSS for the initial scenario //-->\n",
    "<style>\n",
    "p { font-size:2vmin; }\n",
    "button {\n",
    "\theight:min(70vw, 70vh); width:min(70vw, 70vh); border-radius:50%; font-size:300%;\n",
    "\tbox-shadow: -0.04em -0.04em 0 0.04em #ffffffbb, inset 0.04em 0.04em 0 0.1em #ffffff77;text-shadow: 0.04em 0.04em 0.04em yellow;\n",
    "}\n",
    ".one1 { background:#ffffdddd; }\n",
    ".one2::after { content: 'START BUTTON'; }\n",
    "</style>"
   ]
  },
  {
   "cell_type": "code",
   "execution_count": 251,
   "metadata": {
    "vscode": {
     "languageId": "html"
    }
   },
   "outputs": [
    {
     "data": {
      "text/html": [
       "<style>\n",
       ".two1 { background:yellow; animation: breath1 16s 2; }\n",
       ".two2 {\n",
       "\tborder-radius:50%; display:inline; animation: breath2 16s 2;\n",
       "\tbackground:lightblue; color:black; font-size:100%; padding:3em 0.6em;\n",
       "}\n",
       ".two2::after { content: 'BREATH IN'; animation: breath3 16s 2; }\n",
       "@keyframes breath1 {\n",
       "\t0% { background:yellow; }\n",
       "\t6.25% { background:yellow; }\n",
       "\t12.50% { background:conic-gradient(red 0deg, red 22.5deg, yellow 22.5deg); }\n",
       "\t18.75% { background:conic-gradient(red 0deg, red 45deg, yellow 45deg); }\n",
       "\t25.00% { background:conic-gradient(red 0deg, red 67.5deg, yellow 67.5deg); }\n",
       "\t31.25% { background:conic-gradient(red 0deg, red 90deg, yellow 90deg); }\n",
       "\t37.50% { background:conic-gradient(red 0deg, red 112.5deg, yellow 112.5deg); }\n",
       "\t43.75% { background:conic-gradient(red 0deg, red 135deg, yellow 135deg); }\n",
       "\t50.00% { background:conic-gradient(red 0deg, red 157.5deg, yellow 157.5deg); }\n",
       "\t56.25% { background:conic-gradient(red 0deg, red 180deg, yellow 180deg); }\n",
       "\t62.50% { background:conic-gradient(red 0deg, red 202.5deg, yellow 202.5deg); }\n",
       "\t68.75% { background:conic-gradient(red 0deg, red 225deg, yellow 225deg); }\n",
       "\t75.00% { background:conic-gradient(red 0deg, red 247.5deg, yellow 247.5deg); }\n",
       "\t81.25% { background:conic-gradient(red 0deg, red 270deg, yellow 270deg); }\n",
       "\t87.50% { background:conic-gradient(red 0deg, red 292.5deg, yellow 292.5deg); }\n",
       "\t93.75% { background:conic-gradient(red 0deg, red 315deg, yellow 315deg); }\n",
       "\t100% { background:conic-gradient(red 0deg, red 337.5deg, yellow 337.5deg); }\n",
       "}\n",
       "@keyframes breath2 {\n",
       "\t0 { background:darkblue; color:white; font-size:80%; padding:2.5em 0.6em; }\n",
       "\t25.00% { background:darkblue; color:white; font-size:80%; padding:2.5em 0.6em; }\n",
       "\t25.00% { background:lightblue; color:black; font-size:100%; padding:3em 0.6em; }\n",
       "\t50.00% { background:lightblue; color:black; font-size:100%; padding:3em 0.6em; }\n",
       "\t50.00% { background:darkblue; color:white; font-size:80%; padding:2.5em 0.6em; }\n",
       "\t75.00% { background:darkblue; color:white; font-size:80%; padding:2.5em 0.6em; }\n",
       "\t75.00% { background:lightblue; color:black; font-size:100%; padding:3em 0.6em; }\n",
       "\t100.00% { background:lightblue; color:black; font-size:100%; padding:3em 0.6em; }\n",
       "\t100.00% { background:darkblue; color:white; font-size:80%; padding:2.5em 0.6em; }\n",
       "}\n",
       "@keyframes breath3 {\n",
       "\t0 { content:'BREATH OUT'; } 25.00% { content:'BREATH OUT'; } 25.00% { content:'BREATH IN'; }\n",
       "\t50.00% { content:'BREATH IN'; } 50.00% { content:'BREATH OUT'; } 75.00% { content:'BREATH OUT'; }\n",
       "\t75.00% { content:'BREATH IN'; } 100.00% { content:'BREATH IN'; } 100.00% { content:'BREATH OUT'; }\n",
       "}\n",
       "</style>\n"
      ],
      "text/plain": [
       "<IPython.core.display.HTML object>"
      ]
     },
     "metadata": {},
     "output_type": "display_data"
    }
   ],
   "source": [
    "%%html\n",
    "<!-- CSS for the scenario right after clicking the start button //-->\n",
    "<style>\n",
    ".two1 { background:yellow; animation: breath1 16s 2; }\n",
    ".two2 {\n",
    "\tborder-radius:50%; display:inline; animation: breath2 16s 2;\n",
    "\tbackground:lightblue; color:black; font-size:100%; padding:3em 0.6em;\n",
    "}\n",
    ".two2::after { content: 'BREATH IN'; animation: breath3 16s 2; }\n",
    "@keyframes breath1 {\n",
    "\t0% { background:yellow; }\n",
    "\t6.25% { background:yellow; }\n",
    "\t12.50% { background:conic-gradient(red 0deg, red 22.5deg, yellow 22.5deg); }\n",
    "\t18.75% { background:conic-gradient(red 0deg, red 45deg, yellow 45deg); }\n",
    "\t25.00% { background:conic-gradient(red 0deg, red 67.5deg, yellow 67.5deg); }\n",
    "\t31.25% { background:conic-gradient(red 0deg, red 90deg, yellow 90deg); }\n",
    "\t37.50% { background:conic-gradient(red 0deg, red 112.5deg, yellow 112.5deg); }\n",
    "\t43.75% { background:conic-gradient(red 0deg, red 135deg, yellow 135deg); }\n",
    "\t50.00% { background:conic-gradient(red 0deg, red 157.5deg, yellow 157.5deg); }\n",
    "\t56.25% { background:conic-gradient(red 0deg, red 180deg, yellow 180deg); }\n",
    "\t62.50% { background:conic-gradient(red 0deg, red 202.5deg, yellow 202.5deg); }\n",
    "\t68.75% { background:conic-gradient(red 0deg, red 225deg, yellow 225deg); }\n",
    "\t75.00% { background:conic-gradient(red 0deg, red 247.5deg, yellow 247.5deg); }\n",
    "\t81.25% { background:conic-gradient(red 0deg, red 270deg, yellow 270deg); }\n",
    "\t87.50% { background:conic-gradient(red 0deg, red 292.5deg, yellow 292.5deg); }\n",
    "\t93.75% { background:conic-gradient(red 0deg, red 315deg, yellow 315deg); }\n",
    "\t100% { background:conic-gradient(red 0deg, red 337.5deg, yellow 337.5deg); }\n",
    "}\n",
    "@keyframes breath2 {\n",
    "\t0% { background:darkblue; color:white; font-size:80%; padding:2.5em 0.6em; }\n",
    "\t25.00% { background:darkblue; color:white; font-size:80%; padding:2.5em 0.6em; }\n",
    "\t25.00% { background:lightblue; color:black; font-size:100%; padding:3em 0.6em; }\n",
    "\t50.00% { background:lightblue; color:black; font-size:100%; padding:3em 0.6em; }\n",
    "\t50.00% { background:darkblue; color:white; font-size:80%; padding:2.5em 0.6em; }\n",
    "\t75.00% { background:darkblue; color:white; font-size:80%; padding:2.5em 0.6em; }\n",
    "\t75.00% { background:lightblue; color:black; font-size:100%; padding:3em 0.6em; }\n",
    "\t100.00% { background:lightblue; color:black; font-size:100%; padding:3em 0.6em; }\n",
    "\t100.00% { background:darkblue; color:white; font-size:80%; padding:2.5em 0.6em; }\n",
    "}\n",
    "@keyframes breath3 {\n",
    "\t0% { content:'BREATH OUT'; } 25.00% { content:'BREATH OUT'; } 25.00% { content:'BREATH IN'; }\n",
    "\t50.00% { content:'BREATH IN'; } 50.00% { content:'BREATH OUT'; } 75.00% { content:'BREATH OUT'; }\n",
    "\t75.00% { content:'BREATH IN'; } 100.00% { content:'BREATH IN'; } 100.00% { content:'BREATH OUT'; }\n",
    "}\n",
    "</style>"
   ]
  },
  {
   "cell_type": "code",
   "execution_count": 284,
   "metadata": {
    "vscode": {
     "languageId": "html"
    }
   },
   "outputs": [
    {
     "data": {
      "text/html": [
       "<!-- CSS for the scenario 16 seconds after clicking the start button //-->\n",
       "<style>\n",
       ".three1 { display:none; }\n",
       "</style>\n"
      ],
      "text/plain": [
       "<IPython.core.display.HTML object>"
      ]
     },
     "metadata": {},
     "output_type": "display_data"
    }
   ],
   "source": [
    "%%html\n",
    "<!-- CSS for the scenario 16 seconds after clicking the start button //-->\n",
    "<style>\n",
    ".three1 { display:none; }\n",
    "</style>"
   ]
  },
  {
   "cell_type": "markdown",
   "metadata": {},
   "source": [
    "# HTML"
   ]
  },
  {
   "cell_type": "markdown",
   "metadata": {},
   "source": [
    "### Python simulating JavaScript: Start, recording, and final view"
   ]
  },
  {
   "cell_type": "code",
   "execution_count": 289,
   "metadata": {},
   "outputs": [],
   "source": [
    "# run this cell for the initial scenario\n",
    "au = 'This site is linked to a sophisticated neural network able to detect suspicious lung sounds and to classify them. Optionally, you might tell if you <select><option>doubt about having a lung disease.</option><option>think that your lung is healthy.</option><option>have a diagnosed lung disease.</option></select> Once you feel ready to forcedly breath through your mouth, breath out and click the start button.'\n",
    "av = 'one'"
   ]
  },
  {
   "cell_type": "code",
   "execution_count": 291,
   "metadata": {},
   "outputs": [],
   "source": [
    "# run this cell for the scenario right after clicking the start button\n",
    "au = ''     #corresponds to document.getElementsByTagName('p')[0].innerHTML = '';\n",
    "av = 'two'  #corresponds to document.getElementById('one1').id = 'two1';\n",
    "            #and to document.getElementById('one2').id = 'two2';"
   ]
  },
  {
   "cell_type": "code",
   "execution_count": 294,
   "metadata": {},
   "outputs": [],
   "source": [
    "# run this cell for the scenario 16 seconds after clicking the start button\n",
    "au = 'Thank you. Your respiration sounds healthy. <b>Mind that if I have symptoms, consulting a physician is still recommendable.</b> You now can optionally download a copy of the record. For more accurate results, we recommend [link by Louis]'\n",
    "            #corresponds to document.getElementsByTagName('p')[0].innerHTML = 'Thank you. Your respiration sounds ' + result + '. You now can optionally download a copy of the record. For more accurate results, we recommend [link by Louis]';\n",
    "            #where result can be 'healthy. <b>Mind that if I have symptoms, consulting a physician is still recommendable.</b>'\n",
    "            #or 'suspicious (crackles)' or 'suspicious (wheezes)' or suspicious (crackles and wheezes)'\n",
    "av = 'three'  #corresponds to document.getElementById('two1').remove();"
   ]
  },
  {
   "cell_type": "markdown",
   "metadata": {},
   "source": [
    "### Run one of the three cells above and then the cell below"
   ]
  },
  {
   "cell_type": "code",
   "execution_count": 295,
   "metadata": {
    "vscode": {
     "languageId": "html"
    }
   },
   "outputs": [
    {
     "data": {
      "text/html": [
       "\n",
       "<h1>Wellcome to the respiratory classification</h1>\n",
       "<p>Thank you. Your respiration sounds healthy. <b>Mind that if I have symptoms, consulting a physician is still recommendable.</b> You now can optionally download a copy of the record. For more accurate results, we recommend [link by Louis]</p>\n",
       "<button class='three1'><div class='three2'></div></button>\n"
      ],
      "text/plain": [
       "<IPython.core.display.HTML object>"
      ]
     },
     "execution_count": 295,
     "metadata": {},
     "output_type": "execute_result"
    }
   ],
   "source": [
    "\n",
    "HTML(\"\"\"\n",
    "<h1>Wellcome to the respiratory classification</h1>\n",
    "<p>{au}</p>\n",
    "<button class='{av}1'><div class='{av}2'></div></button>\n",
    "\"\"\".format(**locals()))"
   ]
  },
  {
   "cell_type": "markdown",
   "metadata": {},
   "source": [
    "# JavaScript"
   ]
  },
  {
   "cell_type": "markdown",
   "metadata": {},
   "source": [
    "### 1) Access to the users microphone:\n",
    "```\n",
    "navigator.mediaDevices.getUserMedia({audio:true})\n",
    ".then(stream => { handlerF(stream); })\n",
    ".catch((err) => { alert(err.name + '\\n' + err.message); });\n",
    "```\n",
    "Line 1: Asks for audio permission.<br>\n",
    "Line 2: If everything is fine, a function handles the stream.<br>\n",
    "Line 3: If an error occurs, it is explained.<br><br>\n",
    "The most likely error is '<i>NotAllowedError<br>The request is not allowed by the user agent or the platform in the current context, possibly because the user denied permission.</i>'\n"
   ]
  },
  {
   "cell_type": "markdown",
   "metadata": {},
   "source": [
    "### 2) Function that handles the stream:\n",
    "````\n",
    "const mimeT = ['audio/mp4','audio/webm','audio/ogg'];\n",
    "audioChunks = [];\n",
    "````\n",
    "These mime types are only necessary for the browser to classify the binary large object (BLOB). It is created before the file making and leaves the stream inert (i.e. uncompressed).\n",
    "````\n",
    "function handlerF(stream) {\n",
    "\tmimeT.forEach(function(v) { if (MediaRecorder.isTypeSupported(v)) { re = new MediaRecorder(stream, {mimeType:v}); } });\n",
    "\tre.ondataavailable = eventS => {\n",
    "\t\taudioChunks.push(eventS.data); // alert(e);\n",
    "\t\tif (re.state == 'inactive') {\n",
    "\t\t\tlet blob = new Blob(audioChunks, {type:re.mimeType}); // alert(blob);\n",
    "\t\t\ta.src = URL.createObjectURL(blob); // alert(a.src);\n",
    "\t\t}\n",
    "\t}\n",
    "}\n",
    "````\n",
    "Line 1 (inside the function): Create a new recorder while satisfying the browsers mime requirements.<br>\n",
    "Other lines: Create an event listener that executes code whenever the browser has completed streaming a new audio chunk.\n",
    "- push the audio chunk into the audioChunks array\n",
    "- if the recording ended\n",
    "\t- make a BLOB out of the audioChunks array\n",
    "\t- create an URL to access the BLOB\n"
   ]
  },
  {
   "cell_type": "markdown",
   "metadata": {},
   "source": [
    "### 3) Function that executed code by the START BUTTON:\n",
    "````\n",
    "function startB() {\n",
    "    re.start();\n",
    "    document.getElementsByTagName('p')[0].innerHTML = '';\n",
    "    document.getElementById('one1').id = 'two1';\n",
    "    document.getElementById('one2').id = 'two2';\n",
    "    setTimeout(ende,16000);\n",
    "}\n",
    "````\n",
    "Line 1 (inside the function): Start the recorder.<br>\n",
    "Lines 2 to 4: Start the animation (kindly see above).<br>\n",
    "Line 5: Call the function that runs code after 16000 milliseconds.<br>"
   ]
  },
  {
   "cell_type": "markdown",
   "metadata": {},
   "source": [
    "### 3) Ending function:\n",
    "````\n",
    "const possibleR = ['healthy. <b>Mind that if I have symptoms, consulting a physician is still recommendable.</b>','suspicious (crackles)','suspicious (wheezes)','suspicious (crackles and wheezes)']\n",
    "````\n",
    "These are the four possible answers returned to the user.\n",
    "````\n",
    "function ende() {\n",
    "    re.stop();\n",
    "    var res = possibleR[Math.floor(Math.random()*4)];\n",
    "    document.getElementsByTagName('p')[0].innerHTML = 'Thank you. Your respiration sounds ' + res + '. You now can optionally download a copy of the record. For more accurate results, we recommend [link by Louis]';\n",
    "    document.getElementById('two1').remove();\n",
    "    var b = document.createElement('a'); b.href = a.src; b.target = '_blank'; b.download = 'LungSound.wav';\tdocument.body.appendChild(b); b.click(); b.remove();\n",
    "}\n",
    "````\n",
    "Line 1 (inside the function): Stop recording.<br>\n",
    "Lines 2: These line will be replaced by the result of the neural network. A random generator is the current placeholder. This is for demo purposes and for fun, as true random guessing is much better (i.e. the pertest probability of having a healthy lung is higher than 25%).<br>\n",
    "Line 3: Put the result in friendly text and make recommendations for a repetition with better quality (right amount of info at th right time).<br>\n",
    "Line 4: Remove the button.<br>\n",
    "Line 5 and 6: Offer the option to download a copy."
   ]
  }
 ],
 "metadata": {
  "kernelspec": {
   "display_name": "Python 3.9.8 ('.venv': venv)",
   "language": "python",
   "name": "python3"
  },
  "language_info": {
   "codemirror_mode": {
    "name": "ipython",
    "version": 3
   },
   "file_extension": ".py",
   "mimetype": "text/x-python",
   "name": "python",
   "nbconvert_exporter": "python",
   "pygments_lexer": "ipython3",
   "version": "3.9.8"
  },
  "orig_nbformat": 4,
  "vscode": {
   "interpreter": {
    "hash": "26e49bc044355d0fb742e5df05603d7a6745ee0fd0264a60b64034172fdecd97"
   }
  }
 },
 "nbformat": 4,
 "nbformat_minor": 2
}
