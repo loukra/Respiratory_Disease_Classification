{
 "cells": [
  {
   "cell_type": "markdown",
   "metadata": {},
   "source": [
    "# Imports"
   ]
  },
  {
   "cell_type": "code",
   "execution_count": 361,
   "metadata": {},
   "outputs": [],
   "source": [
    "from IPython.core.display import HTML\n",
    "import random"
   ]
  },
  {
   "cell_type": "markdown",
   "metadata": {},
   "source": [
    "# CSS"
   ]
  },
  {
   "cell_type": "code",
   "execution_count": 362,
   "metadata": {
    "vscode": {
     "languageId": "html"
    }
   },
   "outputs": [
    {
     "data": {
      "text/html": [
       "<!-- Frame CSS //-->\n",
       "<style>\n",
       "\t/* #raf { z-index:5; position:absolute; min-width:100%; min-height:100%; } */\n",
       "\thtml { background-color:white; }\n",
       "</style>\n"
      ],
      "text/plain": [
       "<IPython.core.display.HTML object>"
      ]
     },
     "metadata": {},
     "output_type": "display_data"
    }
   ],
   "source": [
    "%%html\n",
    "<!-- Frame CSS //-->\n",
    "<style>\n",
    "\t/* #raf { z-index:5; position:absolute; min-width:100%; min-height:100%; } */\n",
    "\thtml { background-color:white; }\n",
    "</style>"
   ]
  },
  {
   "cell_type": "code",
   "execution_count": 363,
   "metadata": {
    "vscode": {
     "languageId": "html"
    }
   },
   "outputs": [
    {
     "data": {
      "text/html": [
       "<!-- CSS for the initial phase: //-->\n",
       "<style>\n",
       "\th1, p, select, table { font-family: Arial, Helvetica, sans-serif; color:#004400; text-shadow: -0.06em -0.06em 0.04em white; }\n",
       "\th1 { font-size:8vmin; }\n",
       "\tp, select { text-align:justify; }\n",
       "\tp, select, table { font-size:4.8vmin; font-weight:700; line-height:1.5 }\n",
       "\tselect { -webkit-appearance: none; -moz-appearance: none; appearance: none; padding:5px; cursor: pointer; }\n",
       "\tbutton {\n",
       "\t\tborder-radius:50%; border-width:0.4em; font-size:6vmin; font-weight:700;\n",
       "\t\tbox-shadow: -0.06em -0.06em 0 0.04em #ffffffbb, inset 0.04em 0.04em 0 0.1em #ffffff77;\n",
       "\t}\n",
       "\t#one1 { position:relative; height:70vmin; width:70vmin; left:calc(50% - 35vmin); background:#004400; color:white; text-shadow: 0.06em 0.06em 0.04em black; }\n",
       "\t#one1:active { background:white; box-shadow: 0 0 0; }\n",
       "\t#one2::after { content: 'START BUTTON'; }\n",
       "</style>\n",
       "<style>\n",
       "    #three3 { display:none; }\n",
       "</style>\n"
      ],
      "text/plain": [
       "<IPython.core.display.HTML object>"
      ]
     },
     "metadata": {},
     "output_type": "display_data"
    }
   ],
   "source": [
    "%%html\n",
    "<!-- CSS for the initial phase: //-->\n",
    "<style>\n",
    "\th1, p, select, table { font-family: Arial, Helvetica, sans-serif; color:#004400; text-shadow: -0.06em -0.06em 0.04em white; }\n",
    "\th1 { font-size:8vmin; }\n",
    "\tp, select { text-align:justify; }\n",
    "\tp, select, table { font-size:4.8vmin; font-weight:700; line-height:1.5 }\n",
    "\tselect { -webkit-appearance: none; -moz-appearance: none; appearance: none; padding:5px; cursor: pointer; }\n",
    "\tbutton {\n",
    "\t\tborder-radius:50%; border-width:0.4em; font-size:6vmin; font-weight:700;\n",
    "\t\tbox-shadow: -0.06em -0.06em 0 0.04em #ffffffbb, inset 0.04em 0.04em 0 0.1em #ffffff77;\n",
    "\t}\n",
    "\t#one1 { position:relative; height:70vmin; width:70vmin; left:calc(50% - 35vmin); background:#004400; color:white; text-shadow: 0.06em 0.06em 0.04em black; }\n",
    "\t#one1:active { background:white; box-shadow: 0 0 0; }\n",
    "\t#one2::after { content: 'START BUTTON'; }\n",
    "</style>\n",
    "<style>\n",
    "    #three3 { display:none; }\n",
    "</style>"
   ]
  },
  {
   "cell_type": "code",
   "execution_count": 364,
   "metadata": {
    "vscode": {
     "languageId": "html"
    }
   },
   "outputs": [
    {
     "data": {
      "text/html": [
       "<!-- CSS for the animation phase: //-->\n",
       "<style>\n",
       "\t#two1 { position:absolute; top:calc(50% - 40vmin); left:calc(50% - 40vmin); height:80vmin; width:80vmin; background:pink; animation: breath1 16s 2; }\n",
       "\t#two2 {\n",
       "\t\tdisplay:inline-block; height:50vmin; width:50vmin; border-radius:50%; line-height:50vmin;\n",
       "\t\tbackground:lightblue; color:black; animation: breath2 16s 2;\n",
       "\t}\n",
       "\t#two2::after { content: 'BREATH IN'; animation: breath3 16s 2; }\n",
       "\t@keyframes breath1 {\n",
       "\t\t0% { background:pink; }\n",
       "\t\t6.25% { background:pink; }\n",
       "\t\t12.50% { background:conic-gradient(#004400 0deg, #004400 22.5deg, pink 22.5deg); }\n",
       "\t\t18.75% { background:conic-gradient(#004400 0deg, #004400 45deg, pink 45deg); }\n",
       "\t\t25.00% { background:conic-gradient(#004400 0deg, #004400 67.5deg, pink 67.5deg); }\n",
       "\t\t31.25% { background:conic-gradient(#004400 0deg, #004400 90deg, pink 90deg); }\n",
       "\t\t37.50% { background:conic-gradient(#004400 0deg, #004400 112.5deg, pink 112.5deg); }\n",
       "\t\t43.75% { background:conic-gradient(#004400 0deg, #004400 135deg, pink 135deg); }\n",
       "\t\t50.00% { background:conic-gradient(#004400 0deg, #004400 157.5deg, pink 157.5deg); }\n",
       "\t\t56.25% { background:conic-gradient(#004400 0deg, #004400 180deg, pink 180deg); }\n",
       "\t\t62.50% { background:conic-gradient(#004400 0deg, #004400 202.5deg, pink 202.5deg); }\n",
       "\t\t68.75% { background:conic-gradient(#004400 0deg, #004400 225deg, pink 225deg); }\n",
       "\t\t75.00% { background:conic-gradient(#004400 0deg, #004400 247.5deg, pink 247.5deg); }\n",
       "\t\t81.25% { background:conic-gradient(#004400 0deg, #004400 270deg, pink 270deg); }\n",
       "\t\t87.50% { background:conic-gradient(#004400 0deg, #004400 292.5deg, pink 292.5deg); }\n",
       "\t\t93.75% { background:conic-gradient(#004400 0deg, #004400 315deg, pink 315deg); }\n",
       "\t\t100% { background:conic-gradient(#004400 0deg, #004400 337.5deg, pink 337.5deg); }\n",
       "\t}\n",
       "\t@keyframes breath2 {\n",
       "\t\t0% { background:darkblue; color:white; }\n",
       "\t\t25.00% { background:darkblue; color:white; }\n",
       "\t\t25.00% { background:lightblue; color:black; }\n",
       "\t\t50.00% { background:lightblue; color:black; }\n",
       "\t\t50.00% { background:darkblue; color:white; }\n",
       "\t\t75.00% { background:darkblue; color:white; }\n",
       "\t\t75.00% { background:lightblue; color:black; }\n",
       "\t\t100.00% { background:lightblue; color:black; }\n",
       "\t\t100.00% { background:darkblue; color:white; }\n",
       "\t}\n",
       "\t@keyframes breath3 {\n",
       "\t\t0% { content:'BREATH OUT'; } 25.00% { content:'BREATH OUT'; } 25.00% { content:'BREATH IN'; }\n",
       "\t\t50.00% { content:'BREATH IN'; } 50.00% { content:'BREATH OUT'; } 75.00% { content:'BREATH OUT'; }\n",
       "\t\t75.00% { content:'BREATH IN'; } 100.00% { content:'BREATH IN'; } 100.00% { content:'BREATH OUT'; }\n",
       "\t}\n",
       "</style>\n",
       "<style>\n",
       "    #three3 { display:none; }\n",
       "</style>\n"
      ],
      "text/plain": [
       "<IPython.core.display.HTML object>"
      ]
     },
     "metadata": {},
     "output_type": "display_data"
    }
   ],
   "source": [
    "%%html\n",
    "<!-- CSS for the animation phase: //-->\n",
    "<style>\n",
    "\t#two1 { position:absolute; top:calc(50% - 40vmin); left:calc(50% - 40vmin); height:80vmin; width:80vmin; background:pink; animation: breath1 16s 2; }\n",
    "\t#two2 {\n",
    "\t\tdisplay:inline-block; height:50vmin; width:50vmin; border-radius:50%; line-height:50vmin;\n",
    "\t\tbackground:lightblue; color:black; animation: breath2 16s 2;\n",
    "\t}\n",
    "\t#two2::after { content: 'BREATH IN'; animation: breath3 16s 2; }\n",
    "\t@keyframes breath1 {\n",
    "\t\t0% { background:pink; }\n",
    "\t\t6.25% { background:pink; }\n",
    "\t\t12.50% { background:conic-gradient(#004400 0deg, #004400 22.5deg, pink 22.5deg); }\n",
    "\t\t18.75% { background:conic-gradient(#004400 0deg, #004400 45deg, pink 45deg); }\n",
    "\t\t25.00% { background:conic-gradient(#004400 0deg, #004400 67.5deg, pink 67.5deg); }\n",
    "\t\t31.25% { background:conic-gradient(#004400 0deg, #004400 90deg, pink 90deg); }\n",
    "\t\t37.50% { background:conic-gradient(#004400 0deg, #004400 112.5deg, pink 112.5deg); }\n",
    "\t\t43.75% { background:conic-gradient(#004400 0deg, #004400 135deg, pink 135deg); }\n",
    "\t\t50.00% { background:conic-gradient(#004400 0deg, #004400 157.5deg, pink 157.5deg); }\n",
    "\t\t56.25% { background:conic-gradient(#004400 0deg, #004400 180deg, pink 180deg); }\n",
    "\t\t62.50% { background:conic-gradient(#004400 0deg, #004400 202.5deg, pink 202.5deg); }\n",
    "\t\t68.75% { background:conic-gradient(#004400 0deg, #004400 225deg, pink 225deg); }\n",
    "\t\t75.00% { background:conic-gradient(#004400 0deg, #004400 247.5deg, pink 247.5deg); }\n",
    "\t\t81.25% { background:conic-gradient(#004400 0deg, #004400 270deg, pink 270deg); }\n",
    "\t\t87.50% { background:conic-gradient(#004400 0deg, #004400 292.5deg, pink 292.5deg); }\n",
    "\t\t93.75% { background:conic-gradient(#004400 0deg, #004400 315deg, pink 315deg); }\n",
    "\t\t100% { background:conic-gradient(#004400 0deg, #004400 337.5deg, pink 337.5deg); }\n",
    "\t}\n",
    "\t@keyframes breath2 {\n",
    "\t\t0% { background:darkblue; color:white; }\n",
    "\t\t25.00% { background:darkblue; color:white; }\n",
    "\t\t25.00% { background:lightblue; color:black; }\n",
    "\t\t50.00% { background:lightblue; color:black; }\n",
    "\t\t50.00% { background:darkblue; color:white; }\n",
    "\t\t75.00% { background:darkblue; color:white; }\n",
    "\t\t75.00% { background:lightblue; color:black; }\n",
    "\t\t100.00% { background:lightblue; color:black; }\n",
    "\t\t100.00% { background:darkblue; color:white; }\n",
    "\t}\n",
    "\t@keyframes breath3 {\n",
    "\t\t0% { content:'BREATH OUT'; } 25.00% { content:'BREATH OUT'; } 25.00% { content:'BREATH IN'; }\n",
    "\t\t50.00% { content:'BREATH IN'; } 50.00% { content:'BREATH OUT'; } 75.00% { content:'BREATH OUT'; }\n",
    "\t\t75.00% { content:'BREATH IN'; } 100.00% { content:'BREATH IN'; } 100.00% { content:'BREATH OUT'; }\n",
    "\t}\n",
    "</style>\n",
    "<style>\n",
    "    #three3 { display:none; }\n",
    "</style>"
   ]
  },
  {
   "cell_type": "code",
   "execution_count": 365,
   "metadata": {
    "vscode": {
     "languageId": "html"
    }
   },
   "outputs": [
    {
     "data": {
      "text/html": [
       "<!-- CSS for the return phase: //-->\n",
       "<style>\n",
       "    table { margin-top:5vmin; width:100vw; display:none; }\n",
       "    table, th { border-top: 1px solid black; border-bottom: 1px solid black; border-collapse:collapse; }\n",
       "    caption { font-size:6vmin; font-weight:900; }\n",
       "    th { text-align:left; font-weight:800; }\n",
       "</style>\n",
       "<style>\n",
       "    #three1 { display:none; }\n",
       "    #three3 { display:table; }\n",
       "</style>\n"
      ],
      "text/plain": [
       "<IPython.core.display.HTML object>"
      ]
     },
     "metadata": {},
     "output_type": "display_data"
    }
   ],
   "source": [
    "%%html\n",
    "<!-- CSS for the return phase: //-->\n",
    "<style>\n",
    "    table { margin-top:5vmin; width:100vw; display:none; }\n",
    "    table, th { border-top: 1px solid black; border-bottom: 1px solid black; border-collapse:collapse; }\n",
    "    caption { font-size:6vmin; font-weight:900; }\n",
    "    th { text-align:left; font-weight:800; }\n",
    "</style>\n",
    "<style>\n",
    "    #three1 { display:none; }\n",
    "    #three3 { display:table; }\n",
    "</style>"
   ]
  },
  {
   "cell_type": "markdown",
   "metadata": {},
   "source": [
    "# HTML"
   ]
  },
  {
   "cell_type": "markdown",
   "metadata": {},
   "source": [
    "### Python simulating JavaScript: Start, recording, and final view"
   ]
  },
  {
   "cell_type": "code",
   "execution_count": 366,
   "metadata": {},
   "outputs": [],
   "source": [
    "# run this cell for the initial scenario\n",
    "au = \"This site is linked to a sophisticated neural network that discerns suspicious from sound lung noises and classifies the former. You might use the scroll menu to tell if you<select id='wech' onchange='adaptS();'><option>doubt about being lung sick.</option><option>think that your lung is healthy.</option><option>have a pulmonary disease.</option></select> That feedback is optional. You receive the probability of having a healthy lung right after the 16-second breath test.<br><br>Breath out, click the start button, and breath forcedly through your mouth.\"\n",
    "av = 'one'"
   ]
  },
  {
   "cell_type": "code",
   "execution_count": 367,
   "metadata": {},
   "outputs": [],
   "source": [
    "# run this cell for the scenario right after clicking the start button\n",
    "au = ''     #corresponds to document.getElementsByTagName('p')[0].style.display = 'none';\n",
    "av = 'two'  #corresponds to document.getElementById('one1').id = 'two1';\n",
    "            #and to document.getElementById('one2').id = 'two2';"
   ]
  },
  {
   "cell_type": "code",
   "execution_count": 368,
   "metadata": {},
   "outputs": [],
   "source": [
    "# run this cell for the scenario 16 seconds after clicking the start button\n",
    "\n",
    "res = random.randrange(0,100)/100\n",
    "res1 = str(int(res*100))\n",
    "res2 = str(int(50*res/(1-res)/(1+0.5*res/(1-res))))\n",
    "au = 'The network returned a probability of having a healthy lung of ' + res1 + \"%. Mind that further input, such as lifestyle and symptoms, would have influenced this result. For instance, <a href='https://cdc.gov/tobacco/data_statistics/fact_sheets/health_effects/effects_cig_smoking/index.htm#respiratory'>smoking</a> would <a href='https://www.ncbi.nlm.nih.gov/pmc/articles/PMC557240/'>reduce it to \" + res2 + \"%</a>.<br>To improve the quality, record closer to an <a href='https://researchgate.net/figure/Lung-sounds-are-commonly-auscultated-from-anterior-chest-and-posterior-back-sides-of_fig2_345453767'>auscultation site</a> and extend your device:\"\n",
    "            #corresponds to document.getElementsByTagName('p')[0].innerHTML = 'Thank you. Your respiration sounds ' + result + '. You now can optionally download a copy of the record. For more accurate results, we recommend [link by Louis]';\n",
    "            #where result can be 'healthy. <b>Mind that if I have symptoms, consulting a physician is still recommendable.</b>'\n",
    "            #or 'suspicious (crackles)' or 'suspicious (wheezes)' or suspicious (crackles and wheezes)'\n",
    "av = 'three'  #corresponds to document.getElementById('two1').remove();"
   ]
  },
  {
   "cell_type": "markdown",
   "metadata": {},
   "source": [
    "### Run one of the three cells above and then the cell below"
   ]
  },
  {
   "cell_type": "code",
   "execution_count": 369,
   "metadata": {
    "vscode": {
     "languageId": "html"
    }
   },
   "outputs": [
    {
     "data": {
      "text/html": [
       "\n",
       "<h1>Breathing Sound Test</h1>\n",
       "<p>The network returned a probability of having a healthy lung of 31%. Mind that further input, such as lifestyle and symptoms, would have influenced this result. For instance, <a href='https://cdc.gov/tobacco/data_statistics/fact_sheets/health_effects/effects_cig_smoking/index.htm#respiratory'>smoking</a> would <a href='https://www.ncbi.nlm.nih.gov/pmc/articles/PMC557240/'>reduce it to 18%</a>.<br>To improve the quality, record closer to an <a href='https://researchgate.net/figure/Lung-sounds-are-commonly-auscultated-from-anterior-chest-and-posterior-back-sides-of_fig2_345453767'>auscultation site</a> and extend your device:</p>\n",
       "<button id='three1' onclick='startB();'><div id='three2'></div></button>\n",
       "<table cellpadding='5' id='three3'>\n",
       "    <caption>Adds for a clearer auscultation</caption>\n",
       "    <tr><th rowspan='1'>Flat Phone microphones</td><td><a href='https://amazon.com/s?k=phone+microphone+flat&crid=1KLYTN7UM86XM&sprefix=phone+microphone+flat%2Caps%2C238&ref=nb_sb_noss'>Amazon</a></td></tr>\n",
       "    <tr><th rowspan='1'>Flat USB microphones</td><td style='border-top: 1px solid black; border-bottom: 1px solid black;'><a href='https://renhotecic.com/VIMCENT-YM-200-M2-Wired-360-and-deg-Pickup-Audio-Omnidirectional-Microphone-Conference-Microphone-Webcast-Microphone-with-USB-Cable-0001726'>Renhotec</a></td></tr>\n",
       "    <tr><th rowspan='2'>Bluetooth stethoscopes</td><td><a href='https://alibaba.com/trade/search?fsb=y&IndexArea=product_en&CatId=&tab=all&SearchText=bluetooth+stethoscope&selectedTab=product_en'>Alibaba</a></td></tr>\n",
       "    <tr><td style='border-bottom: 1px solid black;'><a href='https://sifsof.com/product/bluetooth-enabled-cardio-pulmonary-stethoscope-sifstetho-1-1/'>SIFSOF</a></td></tr>\n",
       "    <tr><th rowspan='2'>USB stethoscopes</td><td><a href='https://telemedicinesupply.com/collections/devices'>MobilDrTech</a></td></tr>\n",
       "    <tr><td><a href='https://letstalkinteractive.com/solutions/telemedicine-carts-and-equipment#digital-accessories'>Let's Talk</a></td></tr>\n",
       "</table>\n"
      ],
      "text/plain": [
       "<IPython.core.display.HTML object>"
      ]
     },
     "execution_count": 369,
     "metadata": {},
     "output_type": "execute_result"
    }
   ],
   "source": [
    "\n",
    "HTML(\"\"\"\n",
    "<h1>Breathing Sound Test</h1>\n",
    "<p>{au}</p>\n",
    "<button id='{av}1' onclick='startB();'><div id='{av}2'></div></button>\n",
    "<table cellpadding='5' id='{av}3'>\n",
    "    <caption>Adds for a clearer auscultation</caption>\n",
    "    <tr><th rowspan='1'>Flat Phone microphones</td><td><a href='https://amazon.com/s?k=phone+microphone+flat&crid=1KLYTN7UM86XM&sprefix=phone+microphone+flat%2Caps%2C238&ref=nb_sb_noss'>Amazon</a></td></tr>\n",
    "    <tr><th rowspan='1'>Flat USB microphones</td><td style='border-top: 1px solid black; border-bottom: 1px solid black;'><a href='https://renhotecic.com/VIMCENT-YM-200-M2-Wired-360-and-deg-Pickup-Audio-Omnidirectional-Microphone-Conference-Microphone-Webcast-Microphone-with-USB-Cable-0001726'>Renhotec</a></td></tr>\n",
    "    <tr><th rowspan='2'>Bluetooth stethoscopes</td><td><a href='https://alibaba.com/trade/search?fsb=y&IndexArea=product_en&CatId=&tab=all&SearchText=bluetooth+stethoscope&selectedTab=product_en'>Alibaba</a></td></tr>\n",
    "    <tr><td style='border-bottom: 1px solid black;'><a href='https://sifsof.com/product/bluetooth-enabled-cardio-pulmonary-stethoscope-sifstetho-1-1/'>SIFSOF</a></td></tr>\n",
    "    <tr><th rowspan='2'>USB stethoscopes</td><td><a href='https://telemedicinesupply.com/collections/devices'>MobilDrTech</a></td></tr>\n",
    "    <tr><td><a href='https://letstalkinteractive.com/solutions/telemedicine-carts-and-equipment#digital-accessories'>Let's Talk</a></td></tr>\n",
    "</table>\n",
    "\"\"\".format(**locals()))"
   ]
  },
  {
   "cell_type": "markdown",
   "metadata": {},
   "source": [
    "background-image:url(https://www.pngall.com/wp-content/uploads/2016/09/Lungs-PNG-Pic.png);<br>\n",
    "Show a link to the license: We will show no background."
   ]
  },
  {
   "cell_type": "markdown",
   "metadata": {},
   "source": [
    "# JavaScript"
   ]
  },
  {
   "cell_type": "markdown",
   "metadata": {},
   "source": [
    "### Main global constants and variables:\n",
    "````\n",
    "const mimeT = ['audio/mp4','audio/webm','audio/ogg'];\n",
    "audioChunks = [];\n",
    "var fileC = document.createElement('a');\n",
    "````\n",
    "These mime types are only necessary for the browser to classify the binary large object (BLOB). It is created before the file making and leaves the stream inert (i.e. uncompressed).\n",
    "\n",
    "These are the four possible answers returned to the user. fileC is the copy for the user."
   ]
  },
  {
   "cell_type": "markdown",
   "metadata": {},
   "source": [
    "### Access to the users microphone:\n",
    "```\n",
    "navigator.mediaDevices.getUserMedia({audio:true})\n",
    ".then(stream => { handlerF(stream); })\n",
    ".catch((err) => { alert(err.name + '\\n' + err.message); });\n",
    "```\n",
    "Line 1: Asks for audio permission.<br>\n",
    "Line 2: If everything is fine, a function handles the stream.<br>\n",
    "Line 3: If an error occurs, it is explained.<br><br>\n",
    "The most likely error is '<i>NotAllowedError<br>The request is not allowed by the user agent or the platform in the current context, possibly because the user denied permission.</i>'\n"
   ]
  },
  {
   "cell_type": "markdown",
   "metadata": {},
   "source": [
    "### Function that handles the stream:\n",
    "````\n",
    "\tfunction handlerF(stream) {\n",
    "\t\tmimeT.forEach(function(v) { if (MediaRecorder.isTypeSupported(v)) { re = new MediaRecorder(stream, {mimeType:v}); } });\n",
    "\t\tre.ondataavailable = eventS => {\n",
    "\t\t\taudioChunks.push(eventS.data); // alert(eventS);\n",
    "\t\t\tif (re.state == 'inactive') {\n",
    "\t\t\t\tlet blob = new Blob(audioChunks, {type:re.mimeType}); // alert(blob);\n",
    "\t\t\t\tfileC.href = URL.createObjectURL(blob); // alert(fileC.href);\n",
    "\t\t\t\tfileC.target = '_blank'; fileC.download = 'LungSound.wav';\n",
    "\t\t\t\tdocument.body.appendChild(fileC); fileC.click(); fileC.remove();\n",
    "\t\t\t\tvar res = Math.random();\n",
    "\t\t\t\tdocument.getElementsByTagName('p')[0].style.display = 'inline';\n",
    "\t\t\t\tdocument.getElementsByTagName('p')[0].innerHTML = 'The network returned a probability of having a healthy lung of ' + (res*100).toFixed() + \"%. Mind that further input, such as lifestyle and symptoms, would have influenced this result. For instance, <a href='https://cdc.gov/tobacco/data_statistics/fact_sheets/health_effects/effects_cig_smoking/index.htm#respiratory'>smoking</a> would <a href='https://www.ncbi.nlm.nih.gov/pmc/articles/PMC557240/'>reduce it to \" + (50*res/(1-res)/(1+0.5*res/(1-res))).toFixed() + \"%</a>.<br>To improve the quality, record closer to an <a href='https://researchgate.net/figure/Lung-sounds-are-commonly-auscultated-from-anterior-chest-and-posterior-back-sides-of_fig2_345453767'>auscultation site</a> and extend your device:\";\n",
    "\t\t\t\tdocument.getElementsByTagName('table')[0].style.display = 'table';\n",
    "\t\t\t\tdocument.getElementById('two1').remove();\n",
    "\t\t\t}\n",
    "\t\t}\n",
    "\t}\n",
    "````\n",
    "Line 1 (inside the function): Create a new recorder while satisfying the browsers mime requirements.<br>\n",
    "Other lines: Create an event listener that executes code whenever the browser has completed streaming a new audio chunk.\n",
    "- push the audio chunk into the audioChunks array\n",
    "- if the recording has ended\n",
    "\t- make a BLOB out of the audioChunks array\n",
    "\t- create an URL to access the BLOB and define it as href for the participant file. The code for the network file is will be included later\n",
    "\t- define the participant file as wav-File (uncompressed)\n",
    "\t- activate the download (which the user can still cancel depending on the browser settings)\n",
    "\t- this line will be replaced by the result of the neural network. For demo purposes and for fun, a random generator is the current placeholder. True random guessing is much better, as the pertest probability of having a healthy lung is higher than 25%.\n",
    "\t- make the paragraph reappear\n",
    "\t- put the result in friendly text and make recommendations for a repetition with better quality (right amount of info at the right time)\n",
    "\t- remove the button to show a picture on auscultation locations\n"
   ]
  },
  {
   "cell_type": "markdown",
   "metadata": {},
   "source": [
    "### Function that executed code by the START BUTTON:\n",
    "````\n",
    "function startB() {\n",
    "    re.start();\n",
    "    document.getElementsByTagName('p')[0].style.display = 'none';\n",
    "    document.getElementById('one1').id = 'two1';\n",
    "    document.getElementById('one2').id = 'two2';\n",
    "    setTimeout(ende,16000);\n",
    "}\n",
    "````\n",
    "Line 1 (inside the function): Start the recorder.<br>\n",
    "Lines 2 to 4: Start the animation (kindly see above).<br>\n",
    "Line 5: Call the function that runs code after 16000 milliseconds.<br>"
   ]
  },
  {
   "cell_type": "markdown",
   "metadata": {},
   "source": [
    "### Ending function:\n",
    "````\n",
    "function ende() { re.stop(); }\n",
    "````\n",
    "Stop recording to trigger the event listener (see function that handles the stream)"
   ]
  }
 ],
 "metadata": {
  "kernelspec": {
   "display_name": "Python 3.9.8 ('.venv': venv)",
   "language": "python",
   "name": "python3"
  },
  "language_info": {
   "codemirror_mode": {
    "name": "ipython",
    "version": 3
   },
   "file_extension": ".py",
   "mimetype": "text/x-python",
   "name": "python",
   "nbconvert_exporter": "python",
   "pygments_lexer": "ipython3",
   "version": "3.9.8"
  },
  "orig_nbformat": 4,
  "vscode": {
   "interpreter": {
    "hash": "26e49bc044355d0fb742e5df05603d7a6745ee0fd0264a60b64034172fdecd97"
   }
  }
 },
 "nbformat": 4,
 "nbformat_minor": 2
}
