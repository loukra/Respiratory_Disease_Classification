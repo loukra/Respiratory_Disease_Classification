{
 "cells": [
  {
   "cell_type": "markdown",
   "metadata": {},
   "source": [
    "# Imports"
   ]
  },
  {
   "cell_type": "code",
   "execution_count": 4,
   "metadata": {},
   "outputs": [],
   "source": [
    "from IPython.core.display import HTML\n",
    "import random"
   ]
  },
  {
   "cell_type": "markdown",
   "metadata": {},
   "source": [
    "# CSS"
   ]
  },
  {
   "cell_type": "code",
   "execution_count": 28,
   "metadata": {
    "vscode": {
     "languageId": "html"
    }
   },
   "outputs": [
    {
     "data": {
      "text/html": [
       "<!-- Frame CSS //-->\n",
       "<style>\n",
       "\t/* #raf { z-index:5; position:absolute; min-width:100%; min-height:100%; background-color:white; } */\n",
       "\t#html { background-color:black; }\n",
       "\t#raf { background-color:white; }\n",
       "</style>\n"
      ],
      "text/plain": [
       "<IPython.core.display.HTML object>"
      ]
     },
     "metadata": {},
     "output_type": "display_data"
    }
   ],
   "source": [
    "%%html\n",
    "<!-- Frame CSS //-->\n",
    "<style>\n",
    "\t/* #raf { z-index:5; position:absolute; min-width:100%; min-height:100%; background-color:white; } */\n",
    "\t#html { background-color:black; }\n",
    "\t#raf { background-color:white; }\n",
    "</style>"
   ]
  },
  {
   "cell_type": "code",
   "execution_count": 29,
   "metadata": {
    "vscode": {
     "languageId": "html"
    }
   },
   "outputs": [
    {
     "data": {
      "text/html": [
       "<!-- Device-specific CSS with priority for phone microphones: //-->\n",
       "<style>\n",
       "\th1, p, table, nav { margin-left:3vw; margin-right:3vw; }\n",
       "\ttable, nav { width:94vw; }\n",
       "\tnav button { width:24vw; }\n",
       "\tnav button span div { width:32vw; }\n",
       "\tnav button span div img { width:30vw;height:30vw; }\n",
       "\t@media only screen and (orientation: landscape) {\n",
       "\t\th1, p, table, nav { margin-left:12vw; margin-right:12vw; }\n",
       "\t\ttable, nav { width:76vw; }\n",
       "\t\tnav button { width:18vw; }\n",
       "\t\tnav button span { width:76vw; }\n",
       "\t\tnav button span div { width:18vw; }\n",
       "\t\tnav button span div img { width:18vw;height:18vw; }\n",
       "\t}\n",
       "</style>\n"
      ],
      "text/plain": [
       "<IPython.core.display.HTML object>"
      ]
     },
     "metadata": {},
     "output_type": "display_data"
    }
   ],
   "source": [
    "%%html\n",
    "<!-- Device-specific CSS with priority for phone microphones: //-->\n",
    "<style>\n",
    "\th1, p, table, nav { margin-left:3vw; margin-right:3vw; }\n",
    "\ttable, nav { width:94vw; }\n",
    "\tnav button { width:24vw; }\n",
    "\tnav button span div { width:32vw; }\n",
    "\tnav button span div img { width:30vw;height:30vw; }\n",
    "\t@media only screen and (orientation: landscape) {\n",
    "\t\th1, p, table, nav { margin-left:12vw; margin-right:12vw; }\n",
    "\t\ttable, nav { width:76vw; }\n",
    "\t\tnav button { width:18vw; }\n",
    "\t\tnav button span { width:76vw; }\n",
    "\t\tnav button span div { width:18vw; }\n",
    "\t\tnav button span div img { width:18vw;height:18vw; }\n",
    "\t}\n",
    "</style>"
   ]
  },
  {
   "cell_type": "code",
   "execution_count": 37,
   "metadata": {
    "vscode": {
     "languageId": "html"
    }
   },
   "outputs": [
    {
     "data": {
      "text/html": [
       "<!-- CSS for the initial state: //-->\n",
       "<style>\n",
       "\th1, p, select, button, table, nav { font-family: Arial, Helvetica, sans-serif; color:#112211; }\n",
       "\th1 { font-size:8vmin; }\n",
       "\tp, select { text-align:justify; }\n",
       "\tp, select, table, button { font-weight:700; }\n",
       "\tp, select, table, nav button { font-size:4.8vmin; }\n",
       "\tp, select, table, nav button span { line-height:1.5; }\n",
       "\tselect { -webkit-appearance: none; -moz-appearance: none; appearance: none; padding:5px; cursor:pointer; }\n",
       "\tbutton { border-width:0.4em; box-shadow: -0.09em -0.09em 0 0.03em black, 0.09em 0.09em 0 0.03em black; }\n",
       "\t#one1, #two1 { border-radius:50%; }\n",
       "\t#one1, #two1, caption { font-size:6vmin; }\n",
       "\t#one1 { position:relative; height:70vmin; width:70vmin; left:calc(50% - 35vmin); }\n",
       "\t#one1:active, nav button:active { background:#112211; box-shadow: 0 0 0; }\n",
       "\t#one2::after { content: 'START TEST'; }\n",
       "\t#one1, table { margin-bottom:18vmin; }\n",
       "\tnav { position:fixed; bottom:0; height:12vmin; display:flex; justify-content:space-between; }\n",
       "\tnav button { height:100%; border-radius:5%; background:white; }\n",
       "\tnav button span {\n",
       "\t\tvisibility:hidden; position:absolute; bottom:100%; background:white;\n",
       "\t\tpadding-top:6vmin; padding-bottom:6vmin; font-size:4.2vmin; cursor:auto;\n",
       "\t}\n",
       "\tnav button:first-child span { left:0;text-align:left; }\n",
       "\tnav button:last-child span { right:0;display:flex;justify-content:space-between; }\n",
       "\tnav button:hover span { visibility:visible; }\n",
       "\tnav button span div img { border-radius:50%;object-fit:cover; }\n",
       "\tnav button span div a, caption { font-weight:bold; }\n",
       "\ta { text-decoration:underline; cursor:auto; color:blue; cursor:pointer; }\n",
       "</style>\n",
       "<style>\n",
       "    #one3 { display:none; }\n",
       "</style>\n"
      ],
      "text/plain": [
       "<IPython.core.display.HTML object>"
      ]
     },
     "metadata": {},
     "output_type": "display_data"
    }
   ],
   "source": [
    "%%html\n",
    "<!-- CSS for the initial state: //-->\n",
    "<style>\n",
    "\th1, p, select, button, table, nav { font-family: Arial, Helvetica, sans-serif; color:#112211; }\n",
    "\th1 { font-size:8vmin; }\n",
    "\tp, select { text-align:justify; }\n",
    "\tp, select, table, button { font-weight:700; }\n",
    "\tp, select, table, nav button { font-size:4.8vmin; }\n",
    "\tp, select, table, nav button span { line-height:1.5; }\n",
    "\tselect { -webkit-appearance:none; -moz-appearance:none; appearance:none; padding:5px; cursor:pointer; }\n",
    "\tbutton, select { background:GhostWhite; }\n",
    "\tselect, nav button { border-style:solid; border-width:0.2em; border-color: LightGrey grey; }\n",
    "\tselect:active, nav button:active { border-color: grey LightGrey; }\n",
    "\t#one1, #two1 { border-radius:50%; box-shadow: -0.09em -0.09em 0 0.03em grey, 0.09em 0.09em 0 0.03em grey; }\n",
    "\t#one1, #two1, caption { font-size:6vmin; }\n",
    "\t#one1 { position:relative; height:70vmin; width:70vmin; left:calc(50% - 35vmin); }\n",
    "\tselect:active, #one1:active, nav button:active { background:DimGray; color:white; }\n",
    "\t#one1:active { box-shadow: -0.09em 0.09em 0 0.03em LightGrey, 0.09em -0.09em 0 0.03em LightGrey; }\n",
    "\t#one2::after { content: 'START TEST'; }\n",
    "\t#one1, table { margin-bottom:18vmin; }\n",
    "\tnav { position:fixed; bottom:0; height:12vmin; display:flex; justify-content:space-between; }\n",
    "\tnav button { height:100%; border-radius:5%; }\n",
    "\tnav button span {\n",
    "\t\tvisibility:hidden; position:absolute; bottom:100%; background-color:white;\n",
    "\t\tpadding-top:6vmin; padding-bottom:6vmin; font-size:4.2vmin; cursor:auto;\n",
    "\t}\n",
    "\tnav button:first-child span { left:0;text-align:left; }\n",
    "\tnav button:last-child span { right:0;display:flex;justify-content:space-between; }\n",
    "\tnav button:hover span { visibility:visible; }\n",
    "\tnav button span div img { border-radius:50%;object-fit:cover; }\n",
    "\tnav button span div a, caption { font-weight:bold; }\n",
    "\ta { text-decoration:underline; cursor:auto; color:blue; cursor:pointer; }\n",
    "</style>\n",
    "<style>\n",
    "    #one3 { display:none; }\n",
    "</style>"
   ]
  },
  {
   "cell_type": "code",
   "execution_count": 38,
   "metadata": {
    "vscode": {
     "languageId": "html"
    }
   },
   "outputs": [
    {
     "data": {
      "text/html": [
       "<!-- CSS for the recording phase: //-->\n",
       "<style>\n",
       "\t#two1 { position:absolute; top:calc(50% - 40vmin); left:calc(50% - 40vmin); height:80vmin; width:80vmin; }\n",
       "\t#two2 {\n",
       "\t\tdisplay:inline-block; height:50vmin; width:50vmin; border-radius:50%; line-height:50vmin;\n",
       "\t\tbackground:grey; animation: breath1 4s 4;\n",
       "\t}\n",
       "\t#two2::after { content: 'BREATH IN'; animation: breath2 4s 4; }\n",
       "\t@keyframes breath1 { 0% { transform:scale(1); } 62.50% { transform:scale(2); } 100.00% { transform:scale(1); } }\n",
       "\t@keyframes breath2 {\n",
       "\t\t0.50% { content:'BREATH IN'; }\n",
       "\t\t62.00% { content:'BREATH IN'; }\n",
       "\t\t63.00% { content:'BREATH OUT'; }\n",
       "\t\t99.50% { content:'BREATH OUT'; }\n",
       "\t}\n",
       "</style>\n",
       "<style>\n",
       "\t#two0 { display:none; }\n",
       "    #two3 { display:none; }\n",
       "\t#two4 { display:none; }\n",
       "</style>\n"
      ],
      "text/plain": [
       "<IPython.core.display.HTML object>"
      ]
     },
     "metadata": {},
     "output_type": "display_data"
    }
   ],
   "source": [
    "%%html\n",
    "<!-- CSS for the recording phase: //-->\n",
    "<style>\n",
    "\t#two1 { position:absolute; top:calc(50% - 40vmin); left:calc(50% - 40vmin); height:80vmin; width:80vmin; }\n",
    "\t#two2 {\n",
    "\t\tdisplay:inline-block; height:50vmin; width:50vmin; border-radius:50%; line-height:50vmin;\n",
    "\t\tbackground:LightGrey; animation: breath1 4s 4;\n",
    "\t}\n",
    "\t#two2::after { content: 'BREATH IN'; animation: breath2 4s 4; }\n",
    "\t@keyframes breath1 { 0% { transform:scale(1); } 62.50% { transform:scale(2); } 100.00% { transform:scale(1); } }\n",
    "\t@keyframes breath2 {\n",
    "\t\t0.50% { content:'BREATH IN'; }\n",
    "\t\t62.00% { content:'BREATH IN'; }\n",
    "\t\t63.00% { content:'BREATH OUT'; }\n",
    "\t\t99.50% { content:'BREATH OUT'; }\n",
    "\t}\n",
    "</style>\n",
    "<style>\n",
    "\t#two0 { display:none; }\n",
    "    #two3 { display:none; }\n",
    "\t#two4 { display:none; }\n",
    "</style>"
   ]
  },
  {
   "cell_type": "code",
   "execution_count": 39,
   "metadata": {
    "vscode": {
     "languageId": "html"
    }
   },
   "outputs": [
    {
     "data": {
      "text/html": [
       "<!-- CSS for the return state: //-->\n",
       "<style>\n",
       "\ttable { margin-top:5vmin; display:none; }\n",
       "\ttable, th { border-top: 1px solid black; border-bottom: 1px solid black; border-collapse:collapse; }\n",
       "\tcaption { margin-bottom:2vmin; }\n",
       "\tth+td { border-top: 1px solid black; }\n",
       "\tth { text-align:left; font-weight:800; }\n",
       "</style>\n",
       "<style>\n",
       "\t#three0 { display:block; }\n",
       "    #three1 { display:none; }\n",
       "    #three3 { display:table; }\n",
       "\t#three4 { display:flex; }\n",
       "</style>\n"
      ],
      "text/plain": [
       "<IPython.core.display.HTML object>"
      ]
     },
     "metadata": {},
     "output_type": "display_data"
    }
   ],
   "source": [
    "%%html\n",
    "<!-- CSS for the return state: //-->\n",
    "<style>\n",
    "\ttable { margin-top:5vmin; display:none; }\n",
    "\ttable, th { border-top: 1px solid black; border-bottom: 1px solid black; border-collapse:collapse; }\n",
    "\tcaption { margin-bottom:2vmin; }\n",
    "\tth+td { border-top: 1px solid black; }\n",
    "\tth { text-align:left; font-weight:800; }\n",
    "</style>\n",
    "<style>\n",
    "\t#three0 { display:block; }\n",
    "    #three1 { display:none; }\n",
    "    #three3 { display:table; }\n",
    "\t#three4 { display:flex; }\n",
    "</style>"
   ]
  },
  {
   "cell_type": "markdown",
   "metadata": {},
   "source": [
    "# HTML"
   ]
  },
  {
   "cell_type": "markdown",
   "metadata": {},
   "source": [
    "### Python simulating JavaScript: Start, recording, and final view"
   ]
  },
  {
   "cell_type": "code",
   "execution_count": 45,
   "metadata": {},
   "outputs": [],
   "source": [
    "# run this cell for the initial state\n",
    "au = '''\n",
    "    <p id='phase_p'>This page is linked to a sophisticated neural network that discerns suspicious from sound breath noises and classifies the former. You may tell by the scroll menu if you \n",
    "\t<select id='wech' onchange='adaptS();'>\n",
    "\t<option value='0.00'>suspect an airway illness.</option>\n",
    "\t<option value='1.00'>have sound airways.</option>\n",
    "\t<option>have sick airways.</option>\n",
    "\t</select>\n",
    "\tThat feedback is optional. You receive the probability of healthy airways right after the 16-second breath test.<br><br>Train, 'start test', and breath forcedly through your mouth.</p>\n",
    "    '''\n",
    "av = 'one'"
   ]
  },
  {
   "cell_type": "code",
   "execution_count": 40,
   "metadata": {},
   "outputs": [],
   "source": [
    "# run this cell for the phase right after clicking the START TEST button\n",
    "au = ''     #corresponds to document.getElementsByTagName('p')[0].style.display = 'none';\n",
    "av = 'two'  #corresponds to document.getElementById('one1').id = 'two1';\n",
    "            #and to document.getElementById('one2').id = 'two2';"
   ]
  },
  {
   "cell_type": "code",
   "execution_count": 42,
   "metadata": {},
   "outputs": [],
   "source": [
    "# run this cell for the state 16 seconds after clicking the START TEST button\n",
    "\n",
    "res = random.randrange(0,100)/100\n",
    "res1 = str(int(res*100))\n",
    "res2 = str(int(50*res/(1-res)/(1+0.5*res/(1-res))))\n",
    "au = 'The network returned a probability of having a healthy lung of ' + res1 + \"%. Mind that further input, such as lifestyle and symptoms, would have influenced this result. For instance, <a href='https://cdc.gov/tobacco/data_statistics/fact_sheets/health_effects/effects_cig_smoking/index.htm#respiratory'>smoking</a> would <a href='https://www.ncbi.nlm.nih.gov/pmc/articles/PMC557240/'>reduce it to \" + res2 + \"%</a>.<br>To improve the quality, record closer to an <a href='https://researchgate.net/figure/Lung-sounds-are-commonly-auscultated-from-anterior-chest-and-posterior-back-sides-of_fig2_345453767'>auscultation site</a> and extend your device:\"\n",
    "            #corresponds to document.getElementsByTagName('p')[0].innerHTML = 'Thank you. Your respiration sounds ' + result + '. You now can optionally download a copy of the record. For more accurate results, we recommend [link by Louis]';\n",
    "            #where result can be 'healthy. <b>Mind that if I have symptoms, consulting a physician is still recommendable.</b>'\n",
    "            #or 'suspicious (crackles)' or 'suspicious (wheezes)' or suspicious (crackles and wheezes)'\n",
    "av = 'three'  #corresponds to document.getElementById('two1').remove();"
   ]
  },
  {
   "cell_type": "markdown",
   "metadata": {},
   "source": [
    "### Run one of the three cells above and then the cell below"
   ]
  },
  {
   "cell_type": "code",
   "execution_count": 47,
   "metadata": {
    "vscode": {
     "languageId": "html"
    }
   },
   "outputs": [
    {
     "data": {
      "text/html": [
       "\n",
       "<div id='raf'>\n",
       "<h1 id='one0'>Breathing Sound Test</h1>\n",
       "<p>This site is linked to a sophisticated neural network that discerns suspicious from sound lung noises and classifies the former. You might use the scroll menu to tell if you<select id='wech' onchange='adaptS();'><option>doubt about being lung sick.</option><option>think that your lung is healthy.</option><option>have a pulmonary disease.</option></select> That feedback is optional. You receive the probability of having a healthy lung right after the 16-second breath test.<br><br>Breath out, click the start button, and breath forcedly through your mouth.</p>\n",
       "<button id='one1' onclick='startB();'><div id='one2'></div></button>\n",
       "<table cellpadding='5' id='one3'>\n",
       "<caption>Adds for a clearer auscultation</caption><tbody>\n",
       "\t<tr><th rowspan=\"1\">Flat Phone microphones</th><td><a href=\"https://amazon.com/s?k=phone+microphone+flat&amp;crid=1KLYTN7UM86XM&amp;sprefix=phone+microphone+flat%2Caps%2C238&amp;ref=nb_sb_noss\">Amazon</a></td></tr>\n",
       "\t<tr><th rowspan=\"1\">Flat USB microphones</th><td><a href=\"https://renhotecic.com/VIMCENT-YM-200-M2-Wired-360-and-deg-Pickup-Audio-Omnidirectional-Microphone-Conference-Microphone-Webcast-Microphone-with-USB-Cable-0001726\">Renhotec</a></td></tr>\n",
       "\t<tr><th rowspan=\"2\">Bluetooth stethoscopes</th><td><a href=\"https://alibaba.com/trade/search?fsb=y&amp;IndexArea=product_en&amp;CatId=&amp;tab=all&amp;SearchText=bluetooth+stethoscope&amp;selectedTab=product_en\">Alibaba</a></td></tr>\n",
       "\t<tr><td><a href=\"https://sifsof.com/product/bluetooth-enabled-cardio-pulmonary-stethoscope-sifstetho-1-1/\">SIFSOF</a></td></tr>\n",
       "\t<tr><th rowspan=\"2\">USB stethoscopes</th><td><a href=\"https://telemedicinesupply.com/collections/devices\">MobilDrTech</a></td></tr>\n",
       "\t<tr><td><a href=\"https://letstalkinteractive.com/solutions/telemedicine-carts-and-equipment#digital-accessories\">Let's Talk</a></td></tr>\n",
       "\t<tr><th rowspan=\"1\">Do it yourself</th><td><a href=\"https://create.arduino.cc/projecthub/mixpose/digital-stethoscope-ai-1e0229#toc-step-1--building-the-stethoscope-and-recording-sound-4\">Project hub</a></td></tr>\n",
       "</tbody></table>\n",
       "<nav id='one4'>\n",
       "    <button id=\"train\">Train\n",
       "    <span>The microphone holes of your mobile phone, usually identifiable by being smaller than its SIM card eject hole, are typically located on its lower and/or upper edge. In lying position, you can place one on <a href=\"https://researchgate.net/figure/Lung-sounds-are-commonly-auscultated-from-anterior-chest-and-posterior-back-sides-of_fig2_345453767\" target=\"_blank\">auscultation site RL5 or 6</a> while having free sight to the rythm animation. We recommend starting with R6 to minimize underlying heart sounds. The train animation includes a breath sample and - some phones only - vibrates during the expiration phases.<br><br>\n",
       "    <a onclick=\"exampleT();\">Click to proceed</a>.</span></button>\n",
       "    <button onclick=\"moreI();\">More</button>\n",
       "    <button>Contact<span>\n",
       "    <div><img src=\"https://avatars.githubusercontent.com/u/111969813?v=4\"><a href=\"https://github.com/loukra\">Louis Krause</a><br>Data scientist<br>Sound analist<br></div>\n",
       "    <div><img src=\"https://avatars.githubusercontent.com/u/4790396?v=4\"><a href=\"https://github.com/puenktchenli\">Li Xie</a><br>Engineer<br>Biophysicist<br></div>\n",
       "    <div><img src=\"https://avatars.githubusercontent.com/u/111279188?v=4\"><a href=\"https://github.com/medscoops\">Rafael Cámara</a><br>Data scientist<br>Medical doctor<br></div>\n",
       "    </span></button>\n",
       "</nav>\n",
       "<audio id='sampleB' src=\"https://static1.squarespace.com/static/5cf3c7be3ec7de0001f2cb61/t/637c6f6ff6ff8c7cb07f26f5/1669099377891/LungSoundSample.mp3/original/LungSoundSample.mp3\"></audio>\n",
       "</div>\n"
      ],
      "text/plain": [
       "<IPython.core.display.HTML object>"
      ]
     },
     "execution_count": 47,
     "metadata": {},
     "output_type": "execute_result"
    }
   ],
   "source": [
    "\n",
    "HTML(\"\"\"\n",
    "<div id='raf'>\n",
    "<h1 id='{av}0'>Breathing Sound Test</h1>\n",
    "<p>{au}</p>\n",
    "<button id='{av}1' onclick='startB();'><div id='{av}2'></div></button>\n",
    "<table cellpadding='5' id='{av}3'>\n",
    "<caption>Table 1: Improve the auscultation</caption><tbody>\n",
    "\t<tr><th rowspan=\"1\">Flat Phone microphones</th><td><a href=\"https://amazon.com/s?k=phone+microphone+flat&amp;crid=1KLYTN7UM86XM&amp;sprefix=phone+microphone+flat%2Caps%2C238&amp;ref=nb_sb_noss\">Amazon</a></td></tr>\n",
    "\t<tr><th rowspan=\"1\">Flat USB microphones</th><td><a href=\"https://renhotecic.com/VIMCENT-YM-200-M2-Wired-360-and-deg-Pickup-Audio-Omnidirectional-Microphone-Conference-Microphone-Webcast-Microphone-with-USB-Cable-0001726\">Renhotec</a></td></tr>\n",
    "\t<tr><th rowspan=\"2\">Bluetooth stethoscopes</th><td><a href=\"https://alibaba.com/trade/search?fsb=y&amp;IndexArea=product_en&amp;CatId=&amp;tab=all&amp;SearchText=bluetooth+stethoscope&amp;selectedTab=product_en\">Alibaba</a></td></tr>\n",
    "\t<tr><td><a href=\"https://sifsof.com/product/bluetooth-enabled-cardio-pulmonary-stethoscope-sifstetho-1-1/\">SIFSOF</a></td></tr>\n",
    "\t<tr><th rowspan=\"2\">USB stethoscopes</th><td><a href=\"https://telemedicinesupply.com/collections/devices\">MobilDrTech</a></td></tr>\n",
    "\t<tr><td><a href=\"https://letstalkinteractive.com/solutions/telemedicine-carts-and-equipment#digital-accessories\">Let's Talk</a></td></tr>\n",
    "\t<tr><th rowspan=\"1\">Do it yourself</th><td><a href=\"https://create.arduino.cc/projecthub/mixpose/digital-stethoscope-ai-1e0229#toc-step-1--building-the-stethoscope-and-recording-sound-4\">Project hub</a></td></tr>\n",
    "</tbody></table>\n",
    "<nav id='{av}4'>\n",
    "    <button id=\"train\">Train\n",
    "    <span>The microphone holes of your mobile phone, usually identifiable by being smaller than its SIM card eject hole, are typically located on its lower and/or upper edge.\n",
    "    In lying position, you can place one on <a href=\"https://researchgate.net/figure/Lung-sounds-are-commonly-auscultated-from-anterior-chest-and-posterior-back-sides-of_fig2_345453767\" target=\"_blank\">auscultation site RL5 or 6</a>\n",
    "    while having free sight to the rythm animation. We recommend starting with R6 to minimize underlying heart sounds. The train animation includes a breath sample and - some phones only - vibrates during the expiration.<br><br>\n",
    "    <a onclick=\"exampleT();\">Click to proceed</a>.</span></button>\n",
    "    <button onclick=\"window.open('https://github.com/loukra/Respiratory_Disease_Classification/blob/main/README.md', 'Readme', 'width=900,height=600');\">More</button>\n",
    "    <button>Contact<span>\n",
    "    <div><img src=\"https://avatars.githubusercontent.com/u/111969813?v=4\"><a href=\"https://github.com/loukra\" target=\"_blank\">Louis Krause</a><br>Data scientist<br>Sound analist<br></div>\n",
    "    <div><img src=\"https://avatars.githubusercontent.com/u/4790396?v=4\"><a href=\"https://github.com/puenktchenli\" target=\"_blank\">Li Xie</a><br>Engineer<br>Biophysicist<br></div>\n",
    "    <div><img src=\"https://avatars.githubusercontent.com/u/111279188?v=4\"><a href=\"https://github.com/medscoops\" target=\"_blank\">Rafael Cámara</a><br>Data scientist<br>Medical doctor<br></div>\n",
    "    </span></button>\n",
    "</nav>\n",
    "<audio id='sampleB' src=\"https://static1.squarespace.com/static/5cf3c7be3ec7de0001f2cb61/t/637c6f6ff6ff8c7cb07f26f5/1669099377891/LungSoundSample.mp3/original/LungSoundSample.mp3\"></audio>\n",
    "</div>\n",
    "\"\"\".format(**locals()))"
   ]
  },
  {
   "cell_type": "markdown",
   "metadata": {},
   "source": [
    "background-image:url(https://www.pngall.com/wp-content/uploads/2016/09/Lungs-PNG-Pic.png);<br>\n",
    "Show a link to the license: We will show no background."
   ]
  },
  {
   "cell_type": "markdown",
   "metadata": {},
   "source": [
    "# JavaScript"
   ]
  },
  {
   "cell_type": "markdown",
   "metadata": {},
   "source": [
    "### Main global constants and variables:\n",
    "````\n",
    "const mimeT = ['audio/mp4','audio/webm','audio/ogg'];\n",
    "audioChunks = [];\n",
    "var fileC = document.createElement('a');\n",
    "````\n",
    "These mime types are only necessary for the browser to classify the binary large object (BLOB). It is created before the file making and leaves the stream inert (i.e. uncompressed).\n",
    "\n",
    "These are the four possible answers returned to the user. fileC is the copy for the user."
   ]
  },
  {
   "cell_type": "markdown",
   "metadata": {},
   "source": [
    "### Access to the users microphone:\n",
    "```\n",
    "navigator.mediaDevices.getUserMedia({audio:true})\n",
    ".then(stream => { handlerF(stream); })\n",
    ".catch((err) => { alert(err.name + '\\n' + err.message); });\n",
    "```\n",
    "Line 1: Asks for audio permission.<br>\n",
    "Line 2: If everything is fine, a function handles the stream.<br>\n",
    "Line 3: If an error occurs, it is explained.<br><br>\n",
    "The most likely error is '<i>NotAllowedError<br>The request is not allowed by the user agent or the platform in the current context, possibly because the user denied permission.</i>'\n"
   ]
  },
  {
   "cell_type": "markdown",
   "metadata": {},
   "source": [
    "### Responsive scroll menu\n",
    "````\n",
    "function adaptS() {\n",
    "\tif (document.getElementById('wech').selectedIndex=='2') {\n",
    "\t\tdocument.getElementById('wech').outerHTML = \"have <select id='wech'>\\\n",
    "\t\t<option value='2.00'>any respiratory illness.</option>\\\n",
    "\t\t<optgroup label='an acute airway illness (AI), i.e.'>\\\n",
    "\t\t<option value='2.11'>an upper airway infection.</option>\\\n",
    "\t\t<option value='2.12'>a lower airway infection.</option>\\\n",
    "\t\t<option value='2.13'>a pulmonary embolism.</option>\\\n",
    "\t\t<option value='2.14'>a pleural effusion.</option>\\\n",
    "\t\t<option value='2.15'>an altitude sickness.</option>\\\n",
    "\t\t<option value='2.16'>an exacerbated CI.</option>\\\n",
    "\t\t<option value='2.10'>another AI.</option></optgroup>\\\n",
    "\t\t<optgroup label='a chronic airway illness (CI), i.e.'>\\\n",
    "\t\t<option value='2.21'>a COPD.</option>\\\n",
    "\t\t<option value='2.22'>(bronchial) asthma.</option>\\\n",
    "\t\t<option value='2.23'>an emphysema.</option>\\\n",
    "\t\t<option value='2.24'>a bronchiectasis.</option>\\\n",
    "\t\t<option value='2.25'>an interstitial lung disease.</option>\\\n",
    "\t\t<option value='2.26'>a pulmonary tumour.</option>\\\n",
    "\t\t<option value='2.20'>another CI.</option></optgroup></select>\";\n",
    "\t\talert('To tell from which airway illness you suffer, kindly reuse the updated scroll menu and select the best fit.');\n",
    "\t\talert(\"If you feel unsure or happy with the information already given, leave 'any respiratory illness' or select 'another AI/CI'.\");\n",
    "\t\tvar helpQ = confirm('Do you whish assistance in selecting the truest option?')\n",
    "\t\tif (helpQ) { helpT = window.open('', 'Assistance', 'width=850,height=550'); }\n",
    "\t\tif (helpQ && helpT==null) {\n",
    "\t\t\talert('You need to allow popups on this site to get assistance.\\n\\nWebKit:\\t\\tSafari>Preferences...>\\n            \\t\\tWebsites>Pop-up Windows\\nGecko:\\t\\tSettings>\\n            \\t\\tPrivacy & Security>Permissions\\nTrident:\\t\\tSettings>Coo... site permissions>\\n            \\t\\tPop-ups and redirects');\n",
    "\t\t}\n",
    "\t\tif (helpQ) {\n",
    "\t\t\tif (helpT.document.body.innerHTML!='') { helpT.close(); helpT = window.open('', 'Assistance', 'width=850,height=550'); }\n",
    "\t\t\thelpT.document.write(\"<body><table cellpadding='5' style='text-align:left;font-size:20;'><tbody>\\\n",
    "\t\t\t<tr><th colspan='2' style='padding-top:15;font-size:24;'>Acute airway illnesses (AI)</th></tr>\\\n",
    "\t\t\t<tr><th>Upper airway infection:</th><td>Infection limited to the nose, the nasal cavities, and the larynx</td></tr>\\\n",
    "\t\t\t<tr><th>Lower airway infection:</th><td>Tracheitis, bronchitis, bronchiolitis, or pneumonia</td></tr>\\\n",
    "\t\t\t<tr><th>Pulmonary embolism:</th><td>Blockage of an artery in the lungs</td></tr>\\\n",
    "\t\t\t<tr><th>Pleural effusion:</th><td>Accumulation of excessive fluid in the space surrounding the lungs</td></tr>\\\n",
    "\t\t\t<tr><th>Altitude sickness:</th><td>Mountain/decompression sickness with(out) pulmonary oedema</td></tr>\\\n",
    "\t\t\t<tr><th>Exacerbated CI:</th><td>Acute aggravation of a chronic airway illness</td></tr>\\\n",
    "\t\t\t<tr><th colspan='2' style='padding-top:15;font-size:24;'>Chronic airway illnesses (CI)</th></tr>\\\n",
    "\t\t\t<tr><th>COPD:</th><td>Chronic obstructive pulmonary disease</td></tr>\\\n",
    "\t\t\t<tr><th>(Bronchial) asthma:</th><td>Long-term inflammatory pulmonary obstruction</td></tr>\\\n",
    "\t\t\t<tr><th>Emphysema:</th><td>Replacement of alveoli (i.e. air exchange sacs) by spongy tissue</td></tr>\\\n",
    "\t\t\t<tr><th>Bronchiectasis:</th><td>Obstructive secretions caused by enlarged airways</td></tr>\\\n",
    "\t\t\t<tr><th>Interstitial lung disease:</th><td>Includes pulmonary fibrosis, sarcoidosis, tuberculosis, and toxicity</td></tr>\\\n",
    "\t\t\t<tr><th>Pulmonary tumour:</th><td>Includes lung cancer, lung metastases and benign lung tumours</td></tr>\\\n",
    "\t\t\t</tbody></table></body>\");\n",
    "\t\t}\n",
    "\t}\n",
    "}\n",
    "````\n",
    "If the user pretends having a respiratory disease, update the scroll menu go give him/her the opportunity to tell which kind of disease, and provide a table popup for assistance. If the table already exists, close and open the popup again; otherwise, the tables are piped up."
   ]
  },
  {
   "cell_type": "markdown",
   "metadata": {},
   "source": [
    "### Navigation bar\n",
    "````\n",
    "function exampleT() {\n",
    "\tanimateS(); document.getElementById('sampleB').play();\n",
    "\tif (MediaRecorder.isTypeSupported('audio/mp4')==false) { window.navigator.vibrate([0,1500,2500,1500,2500,1500,2500,1500,2500]); }\n",
    "\tsetTimeout(endT,16000);\n",
    "}\n",
    "function endT() { animateE(); document.getElementById('two1').id = 'one1'; document.getElementById('two2').id = 'one2'; }\n",
    "/*function moreI() {\n",
    "\tvar myWindow = window.open('', 'Team', 'width=200,height=250');\n",
    "\tmyWindow.document.write(\"<a href='https://github.com/loukra/Respiratory_Disease_Classification/blob/main/README.md'>GitHubRepository</a>\");\n",
    "}*/\n",
    "````\n",
    "First two functions for the first button, last function for the second button:\n",
    "- First function: start animation, play sample audio, play haptic information\n",
    "- Second function: return to the initial state\n",
    "- Third function: open a new window with more information"
   ]
  },
  {
   "cell_type": "markdown",
   "metadata": {},
   "source": [
    "### Function that handles the stream:\n",
    "````\n",
    "function handlerF(stream) {\n",
    "\tmimeT.forEach(function(v) { if (MediaRecorder.isTypeSupported(v)) { re = new MediaRecorder(stream, {mimeType:v}); } });\n",
    "\tre.ondataavailable = eventS => {\n",
    "\t\taudioChunks.push(eventS.data); // alert(eventS);\n",
    "\t\tif (re.state == 'inactive') {\n",
    "\t\t\tlet blob = new Blob(audioChunks, {type:re.mimeType}); // alert(blob);\n",
    "\t\t\tfileC.href = URL.createObjectURL(blob); // alert(fileC.href);\n",
    "\t\t\tfileC.target = '_blank'; fileC.download = 'LungSound.wav';\n",
    "\t\t\tdocument.body.appendChild(fileC); fileC.click(); fileC.remove();\n",
    "\t\t\tvar res = Math.random();\n",
    "\t\t\tanimateE();\n",
    "\t\t\tdocument.getElementById('phase_p').innerHTML = 'The network returned a probability of healthy lungs \\\n",
    "\t\t\tof ' + (res*100).toFixed() + \"%. Mind that more input, such as lifestyle and symptoms, would have affected this result. \\\n",
    "\t\t\t<a href='https://cdc.gov/tobacco/data_statistics/fact_sheets/health_effects/effects_cig_smoking/index.htm#respiratory'>Smoking</a>, \\\n",
    "\t\t\tfor instance, would <a href='https://www.ncbi.nlm.nih.gov/pmc/articles/PMC557240/'>reduce it \\\n",
    "\t\t\tto \" + (50*res/(1-res)/(1+0.5*res/(1-res))).toFixed() + \"%</a>. Probabilities <70% are suspicious.<br><br>\\\n",
    "\t\t\tTo improve the quality, follow the <a onclick='location.reload();'>train button</a> instructions, \\\n",
    "\t\t\textend your device (table 1), and ausculate several sites (with your partner´s help). \\\n",
    "\t\t\tOf the auscultations with the highest quality, take the lowest probability, as most airway illnesses have a local maximum.\";\n",
    "\t\t\tdocument.getElementsByTagName('table')[0].style.display = 'table';\n",
    "\t\t\tdocument.getElementById('two1').remove();\n",
    "\t\t\tdocument.getElementById('train').innerHTML = 'Repeat';\n",
    "\t\t}\n",
    "\t}\n",
    "}\n",
    "````\n",
    "Line 1 (inside the function): Create a new recorder while satisfying the browsers mime requirements.<br>\n",
    "Other lines: Create an event listener that executes code whenever the browser has completed streaming a new audio chunk.\n",
    "- push the audio chunk into the audioChunks array\n",
    "- if the recording has ended\n",
    "\t- make a BLOB out of the audioChunks array\n",
    "\t- create an URL to access the BLOB and define it as href for the participant file. The code for the network file is will be included later\n",
    "\t- define the participant file as wav-File (uncompressed)\n",
    "\t- activate the download (which the user can still cancel depending on the browser settings)\n",
    "\t- this line will be replaced by the result of the neural network. For demo purposes and for fun, a random generator is the current placeholder. True random guessing is much better, as the pertest probability of having a healthy lung is higher than 25%.\n",
    "\t- make title, paragraph, and navigation bar reappear\n",
    "\t- put the result in friendly text and make recommendations for a repetition with better quality (right amount of info at the right time)\n",
    "\t- remove the animation button and change the train button\n"
   ]
  },
  {
   "cell_type": "markdown",
   "metadata": {},
   "source": [
    "### START TEST Function:\n",
    "````\n",
    "function startB() { re.start(); animateS(); setTimeout(endR,16000); }\n",
    "````\n",
    "Start the recording, start the animation, and run the ending function after 16000 milliseconds."
   ]
  },
  {
   "cell_type": "markdown",
   "metadata": {},
   "source": [
    "### Ending function:\n",
    "````\n",
    "function ende() { re.stop(); }\n",
    "````\n",
    "Stop recording to trigger the event listener (see function that handles the stream)"
   ]
  },
  {
   "cell_type": "markdown",
   "metadata": {},
   "source": [
    "### Animation start function:\n",
    "```\n",
    "function animateS() {\n",
    "\tdocument.getElementById('phase_h').style.display = 'none';\n",
    "\tdocument.getElementById('phase_p').style.display = 'none';\n",
    "\tdocument.getElementById('phase_n').style.display = 'none';\n",
    "\tdocument.getElementById('one1').id = 'two1';\n",
    "\tdocument.getElementById('one2').id = 'two2';\n",
    "}\n",
    "```\n",
    "Line 1 to 3 (inside the function) make everything but the animation disappear so that the user can focus on forced breathing<br>\n",
    "Lines 2 to 5 change the CSS of the START TEST button to turn it into the animation."
   ]
  },
  {
   "cell_type": "markdown",
   "metadata": {},
   "source": [
    "### Animation end function:\n",
    "```\n",
    "function animateE() {\n",
    "\tdocument.getElementById('phase_h').style.display = 'block';\n",
    "\tdocument.getElementById('phase_p').style.display = 'block';\n",
    "\tdocument.getElementById('phase_n').style.display = 'flex';\n",
    "}\n",
    "```\n",
    "Make the title, the paragraph and the navigation bar reappear"
   ]
  }
 ],
 "metadata": {
  "kernelspec": {
   "display_name": "Python 3.9.8 ('.venv': venv)",
   "language": "python",
   "name": "python3"
  },
  "language_info": {
   "codemirror_mode": {
    "name": "ipython",
    "version": 3
   },
   "file_extension": ".py",
   "mimetype": "text/x-python",
   "name": "python",
   "nbconvert_exporter": "python",
   "pygments_lexer": "ipython3",
   "version": "3.9.8"
  },
  "orig_nbformat": 4,
  "vscode": {
   "interpreter": {
    "hash": "26e49bc044355d0fb742e5df05603d7a6745ee0fd0264a60b64034172fdecd97"
   }
  }
 },
 "nbformat": 4,
 "nbformat_minor": 2
}
