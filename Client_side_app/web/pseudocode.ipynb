{
 "cells": [
  {
   "cell_type": "code",
   "execution_count": null,
   "metadata": {},
   "outputs": [],
   "source": [
    "from IPython.core.display import HTML\n",
    "from IPython.display import Javascript"
   ]
  },
  {
   "cell_type": "code",
   "execution_count": 47,
   "metadata": {},
   "outputs": [
    {
     "data": {
      "application/javascript": "require.config(\n    {paths: {d3:'https://d3js.org/d3.v5.min'}}\n)\n",
      "text/plain": [
       "<IPython.core.display.Javascript object>"
      ]
     },
     "metadata": {},
     "output_type": "display_data"
    }
   ],
   "source": [
    "%%javascript\n",
    "require.config(\n",
    "    {paths: {d3:'https://d3js.org/d3.v5.min'}}\n",
    ")"
   ]
  },
  {
   "cell_type": "code",
   "execution_count": 52,
   "metadata": {},
   "outputs": [
    {
     "data": {
      "application/javascript": "require([d3], function(d3) {alert(d3);});\n",
      "text/plain": [
       "<IPython.core.display.Javascript object>"
      ]
     },
     "metadata": {},
     "output_type": "display_data"
    }
   ],
   "source": [
    "%%javascript\n",
    "require([d3], function(d3) {alert(d3);});"
   ]
  },
  {
   "cell_type": "code",
   "execution_count": 56,
   "metadata": {},
   "outputs": [
    {
     "data": {
      "application/javascript": "element.text('hi')\n",
      "text/plain": [
       "<IPython.core.display.Javascript object>"
      ]
     },
     "metadata": {},
     "output_type": "display_data"
    }
   ],
   "source": [
    "%%javascript\n",
    "element.text('hi')"
   ]
  },
  {
   "cell_type": "code",
   "execution_count": 31,
   "metadata": {
    "vscode": {
     "languageId": "html"
    }
   },
   "outputs": [
    {
     "data": {
      "text/html": [
       "<style>\n",
       "// p {font-size:100px;}\n",
       "button {background-color:blueviolet; color:aqua;}\n",
       "</style>\n"
      ],
      "text/plain": [
       "<IPython.core.display.HTML object>"
      ]
     },
     "metadata": {},
     "output_type": "display_data"
    }
   ],
   "source": [
    "%%html\n",
    "<style>\n",
    "// p {font-size:100px;}\n",
    "button {background-color:blueviolet; color:aqua;}\n",
    "</style>"
   ]
  },
  {
   "cell_type": "markdown",
   "metadata": {},
   "source": [
    "### Wellcome to the respiratiory classifcation"
   ]
  },
  {
   "cell_type": "code",
   "execution_count": 43,
   "metadata": {},
   "outputs": [
    {
     "data": {
      "text/html": [
       "<h1>Wellcome to the respiratory classification</h1>\n"
      ],
      "text/plain": [
       "<IPython.core.display.HTML object>"
      ]
     },
     "metadata": {},
     "output_type": "display_data"
    }
   ],
   "source": [
    "%%html\n",
    "<h1>Wellcome to the respiratory classification</h1>"
   ]
  },
  {
   "cell_type": "markdown",
   "metadata": {},
   "source": [
    "[Text field:]<br>\"This site is linked to a sophisticated neural network able to detect suspicious lung sounds and to classify them. Once you feel ready to forcedly breath through your mouth, breath out and click the start button.<br><br>Optionally, you might \" [scroll menu with] \"complete this\" [as default, followed by] \"healthy\" [, the most common acute and chronic respiratory diseases, and] \"other\", \"if you feel sure and want to contribute to improving the model\""
   ]
  },
  {
   "cell_type": "code",
   "execution_count": 12,
   "metadata": {
    "vscode": {
     "languageId": "html"
    }
   },
   "outputs": [
    {
     "data": {
      "text/html": [
       "<p>This site is linked to a sophisticated neural network able to detect suspicious lung sounds and to classify them. Once you feel ready to forcedly breath through your mouth, breath out and click the start button.</p>\n"
      ],
      "text/plain": [
       "<IPython.core.display.HTML object>"
      ]
     },
     "metadata": {},
     "output_type": "display_data"
    }
   ],
   "source": [
    "%%html\n",
    "<p>This site is linked to a sophisticated neural network able to detect suspicious lung sounds and to classify them. Once you feel ready to forcedly breath through your mouth, breath out and click the start button.</p>"
   ]
  },
  {
   "cell_type": "markdown",
   "metadata": {},
   "source": [
    "[Round start button titled] \"START BUTTON\""
   ]
  },
  {
   "cell_type": "code",
   "execution_count": 59,
   "metadata": {
    "vscode": {
     "languageId": "html"
    }
   },
   "outputs": [
    {
     "data": {
      "text/html": [
       "\n",
       "<button id=\"but\">START RECORDING</button>\n",
       "<script type=\"text/javascript\">\n",
       "element.append('<div>Hello</div>');   \n",
       "</script>\n"
      ],
      "text/plain": [
       "<IPython.core.display.HTML object>"
      ]
     },
     "execution_count": 59,
     "metadata": {},
     "output_type": "execute_result"
    }
   ],
   "source": [
    "HTML('''\n",
    "<button id=\"but\">START RECORDING</button>\n",
    "<script type=\"text/javascript\">\n",
    "element.append('<div>Hello</div>');   \n",
    "</script>\n",
    "''')"
   ]
  },
  {
   "cell_type": "code",
   "execution_count": 57,
   "metadata": {
    "vscode": {
     "languageId": "html"
    }
   },
   "outputs": [
    {
     "data": {
      "application/javascript": "element.get(5).text('<div>Hello</div>');\n",
      "text/plain": [
       "<IPython.core.display.Javascript object>"
      ]
     },
     "metadata": {},
     "output_type": "display_data"
    }
   ],
   "source": [
    "%%javascript\n",
    "element.get(5).text('<div>Hello</div>');"
   ]
  },
  {
   "cell_type": "code",
   "execution_count": 40,
   "metadata": {},
   "outputs": [
    {
     "data": {
      "application/javascript": "\nalert(\"hi\");\n",
      "text/plain": [
       "<IPython.core.display.Javascript object>"
      ]
     },
     "execution_count": 40,
     "metadata": {},
     "output_type": "execute_result"
    }
   ],
   "source": [
    "Javascript(\"\"\"\n",
    "alert(\"hi\");\n",
    "\"\"\")"
   ]
  },
  {
   "cell_type": "markdown",
   "metadata": {},
   "source": [
    "[Recording period:<br>Once pressed, the start button turns into a clock indicating 16 Seconds and showing how many seconds have passed. The button title changes to] \"BREATH IN\" [during the first and third quarter, respectively to] \"BREATH OUT\" [during the second and fourth quarter]"
   ]
  },
  {
   "cell_type": "markdown",
   "metadata": {},
   "source": [
    "[After 16 Seconds, the recording stops. The text field changes to:] \"Thank you. Your respiration sounds\" [healthy. <b>Mind that if I have symptoms, consulting a physician is still recommendable.</b>|suspicious (crackles)|suspicious (wheezes)|suspicious (crackles and wheezes)]. You now can optionaly download a copy of the record. For more accurate results, we recommend\" [link by Louis]"
   ]
  }
 ],
 "metadata": {
  "kernelspec": {
   "display_name": "Python 3.9.8 ('.venv': venv)",
   "language": "python",
   "name": "python3"
  },
  "language_info": {
   "codemirror_mode": {
    "name": "ipython",
    "version": 3
   },
   "file_extension": ".py",
   "mimetype": "text/x-python",
   "name": "python",
   "nbconvert_exporter": "python",
   "pygments_lexer": "ipython3",
   "version": "3.9.8"
  },
  "orig_nbformat": 4,
  "vscode": {
   "interpreter": {
    "hash": "26e49bc044355d0fb742e5df05603d7a6745ee0fd0264a60b64034172fdecd97"
   }
  }
 },
 "nbformat": 4,
 "nbformat_minor": 2
}
