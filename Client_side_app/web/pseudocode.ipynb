{
 "cells": [
  {
   "cell_type": "code",
   "execution_count": null,
   "metadata": {
    "vscode": {
     "languageId": "html"
    }
   },
   "outputs": [],
   "source": [
    "from IPython.core.display import HTML"
   ]
  },
  {
   "cell_type": "code",
   "execution_count": 14,
   "metadata": {
    "vscode": {
     "languageId": "html"
    }
   },
   "outputs": [
    {
     "data": {
      "text/html": [
       "<style>\n",
       "// p {font-size:100px;}\n",
       "\n",
       "</style>\n"
      ],
      "text/plain": [
       "<IPython.core.display.HTML object>"
      ]
     },
     "metadata": {},
     "output_type": "display_data"
    }
   ],
   "source": [
    "%%html\n",
    "<style>\n",
    "// p {font-size:100px;}\n",
    "\n",
    "</style>"
   ]
  },
  {
   "cell_type": "markdown",
   "metadata": {},
   "source": [
    "### Wellcome to the respiratiory classifcation"
   ]
  },
  {
   "cell_type": "code",
   "execution_count": 8,
   "metadata": {
    "vscode": {
     "languageId": "html"
    }
   },
   "outputs": [
    {
     "data": {
      "text/html": [
       "\n",
       "<h1>Wellcome to the respiratory classification</h1>\n"
      ],
      "text/plain": [
       "<IPython.core.display.HTML object>"
      ]
     },
     "execution_count": 8,
     "metadata": {},
     "output_type": "execute_result"
    }
   ],
   "source": [
    "HTML(\"\"\"\n",
    "<h1>Wellcome to the respiratory classification</h1>\n",
    "\"\"\")"
   ]
  },
  {
   "cell_type": "markdown",
   "metadata": {},
   "source": [
    "[Text field:]<br>\"This site is linked to a sophisticated neural network able to detect suspicious lung sounds and to classify them. Once you feel ready to forcedly breath through your mouth, breath out and click the start button.<br><br>Optionally, you might \" [scroll menu with] \"complete this\" [as default, followed by] \"healthy\" [, the most common acute and chronic respiratory diseases, and] \"other\", \"if you feel sure and want to contribute to improving the model\""
   ]
  },
  {
   "cell_type": "code",
   "execution_count": 12,
   "metadata": {
    "vscode": {
     "languageId": "html"
    }
   },
   "outputs": [
    {
     "data": {
      "text/html": [
       "<p>This site is linked to a sophisticated neural network able to detect suspicious lung sounds and to classify them. Once you feel ready to forcedly breath through your mouth, breath out and click the start button.</p>\n"
      ],
      "text/plain": [
       "<IPython.core.display.HTML object>"
      ]
     },
     "metadata": {},
     "output_type": "display_data"
    }
   ],
   "source": [
    "%%html\n",
    "<p>This site is linked to a sophisticated neural network able to detect suspicious lung sounds and to classify them. Once you feel ready to forcedly breath through your mouth, breath out and click the start button.</p>"
   ]
  },
  {
   "cell_type": "markdown",
   "metadata": {},
   "source": [
    "[Round start button titled] \"START BUTTON\""
   ]
  },
  {
   "cell_type": "code",
   "execution_count": 18,
   "metadata": {
    "vscode": {
     "languageId": "html"
    }
   },
   "outputs": [
    {
     "data": {
      "text/html": [
       "<button onclick=\"getElementsByTagName('button')[0].style.background='red';\">START RECORDING</button>\n"
      ],
      "text/plain": [
       "<IPython.core.display.HTML object>"
      ]
     },
     "metadata": {},
     "output_type": "display_data"
    }
   ],
   "source": [
    "%%html\n",
    "<button onclick=\"getElementsByTagName('button')[0].style.background='red';\">START RECORDING</button>"
   ]
  },
  {
   "cell_type": "code",
   "execution_count": 21,
   "metadata": {
    "vscode": {
     "languageId": "javascript"
    }
   },
   "outputs": [
    {
     "data": {
      "application/javascript": "getElementsByTagName('button')[0].style.background='red';\nalert(1);\n",
      "text/plain": [
       "<IPython.core.display.Javascript object>"
      ]
     },
     "metadata": {},
     "output_type": "display_data"
    }
   ],
   "source": [
    "%%javascript\n",
    "getElementsByTagName('button')[0].style.background='red';\n",
    "alert(1);"
   ]
  },
  {
   "cell_type": "markdown",
   "metadata": {},
   "source": [
    "[Recording period:<br>Once pressed, the start button turns into a clock indicating 16 Seconds and showing how many seconds have passed. The button title changes to] \"BREATH IN\" [during the first and third quarter, respectively to] \"BREATH OUT\" [during the second and fourth quarter]"
   ]
  },
  {
   "cell_type": "markdown",
   "metadata": {},
   "source": [
    "[After 16 Seconds, the recording stops. The text field changes to:] \"Thank you. Your respiration sounds\" [healthy. <b>Mind that if I have symptoms, consulting a physician is still recommendable.</b>|suspicious (crackles)|suspicious (wheezes)|suspicious (crackles and wheezes)]. You now can optionaly download a copy of the record. For more accurate results, we recommend\" [link by Louis]"
   ]
  }
 ],
 "metadata": {
  "kernelspec": {
   "display_name": "Python 3.9.8 ('.venv': venv)",
   "language": "python",
   "name": "python3"
  },
  "language_info": {
   "codemirror_mode": {
    "name": "ipython",
    "version": 3
   },
   "file_extension": ".py",
   "mimetype": "text/x-python",
   "name": "python",
   "nbconvert_exporter": "python",
   "pygments_lexer": "ipython3",
   "version": "3.9.8"
  },
  "orig_nbformat": 4,
  "vscode": {
   "interpreter": {
    "hash": "26e49bc044355d0fb742e5df05603d7a6745ee0fd0264a60b64034172fdecd97"
   }
  }
 },
 "nbformat": 4,
 "nbformat_minor": 2
}
