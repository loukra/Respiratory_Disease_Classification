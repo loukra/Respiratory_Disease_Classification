{
 "cells": [
  {
   "cell_type": "markdown",
   "metadata": {},
   "source": [
    "# DROPBOX API"
   ]
  },
  {
   "cell_type": "markdown",
   "metadata": {},
   "source": [
    "# Imports"
   ]
  },
  {
   "cell_type": "code",
   "execution_count": 12,
   "metadata": {},
   "outputs": [
    {
     "data": {
      "text/plain": [
       "'/Users/medscoops/neuefische/Respiratory_Disease_Classification/Serverside'"
      ]
     },
     "execution_count": 12,
     "metadata": {},
     "output_type": "execute_result"
    }
   ],
   "source": [
    "import dropbox\n",
    "import os\n",
    "os.getcwd()"
   ]
  },
  {
   "cell_type": "markdown",
   "metadata": {},
   "source": [
    "## Upload"
   ]
  },
  {
   "cell_type": "markdown",
   "metadata": {},
   "source": [
    "### Upload class"
   ]
  },
  {
   "cell_type": "code",
   "execution_count": 33,
   "metadata": {},
   "outputs": [],
   "source": [
    "class cloud_storage:\n",
    "    def __init__(self,access_token):\n",
    "        self.at=access_token\n",
    "\n",
    "    def uploadFile(self,file_from,file_to):\n",
    "        f = open(file_from,'rb')\n",
    "        dbx = dropbox.Dropbox(self.at)\n",
    "\n",
    "        if file_from!='' and file_to!='':\n",
    "            dbx.files_upload(f.read(),file_to)\n",
    "            print('File ' + file_from.split('/')[-1] + ' uploaded successfully')\n",
    "        else:\n",
    "            print('We need location and storage.')"
   ]
  },
  {
   "cell_type": "markdown",
   "metadata": {},
   "source": [
    "### Upload function"
   ]
  },
  {
   "cell_type": "code",
   "execution_count": 34,
   "metadata": {},
   "outputs": [],
   "source": [
    "def main(ff, at):\n",
    "    user = cloud_storage(at)\n",
    "    ft = '/' + ff.split('/')[-1]\n",
    "    user.uploadFile(ff,ft)"
   ]
  },
  {
   "cell_type": "markdown",
   "metadata": {},
   "source": [
    "### Upload input"
   ]
  },
  {
   "cell_type": "code",
   "execution_count": 13,
   "metadata": {},
   "outputs": [],
   "source": [
    "file = '../Client_side_app/web/txt_files/101_1b1_Al_sc_Meditron.txt'\n",
    "access = 'sl.BTZPFPFzsFku-a2I15U_w0hqisaVShckNSnCan8KkB30sTKgtnXLy0GqXWVMdvlplQODouDBmYom3g4VPhH5J88q9MxPkibLSzIz6oBMZGVQZvZgNeETU7oVhzq4laNrOJ8hIn5c0xA'\n",
    "# sl means short lived, i.e. valid during four hours"
   ]
  },
  {
   "cell_type": "markdown",
   "metadata": {},
   "source": [
    "### Upload run"
   ]
  },
  {
   "cell_type": "code",
   "execution_count": 35,
   "metadata": {},
   "outputs": [
    {
     "name": "stdout",
     "output_type": "stream",
     "text": [
      "File 101_1b1_Al_sc_Meditron.txt uploaded successfully\n"
     ]
    }
   ],
   "source": [
    "main(file,access)"
   ]
  },
  {
   "cell_type": "markdown",
   "metadata": {},
   "source": [
    "## Download"
   ]
  },
  {
   "cell_type": "markdown",
   "metadata": {},
   "source": [
    "### List folder"
   ]
  },
  {
   "cell_type": "code",
   "execution_count": 38,
   "metadata": {},
   "outputs": [
    {
     "data": {
      "text/plain": [
       "ListFolderResult(cursor='AAG89WRq2nlZBSboIrnWyVWFdUy4CjRSHoQ9QHqYcjOsLRvrjRnUOfhaQGfcnS1AV0A_of2nvQp00PfQ07XXdxUGmzliQ5pjiHbHNveXGwkO1WFxZcMeILqGoQEV6VFbv3b25mgxyWDnfAXr_Oit_w_qYB815XwW0bHfH_nmKtwUEpAUmpsaXEv9xIKewnRLfGU', entries=[FileMetadata(client_modified=datetime.datetime(2022, 11, 7, 14, 56, 5), content_hash='670fb7bf124e22e520f1cfe22ea8265c96fa03f538e214098560276580bb3cca', export_info=NOT_SET, file_lock_info=NOT_SET, has_explicit_shared_members=NOT_SET, id='id:jdRcTl7vJ-cAAAAAAAAACA', is_downloadable=True, media_info=NOT_SET, name='AudioNote.mp3', parent_shared_folder_id=NOT_SET, path_display='/AudioNote.mp3', path_lower='/audionote.mp3', preview_url=NOT_SET, property_groups=NOT_SET, rev='015ece29f8195ef000000028159bfa0', server_modified=datetime.datetime(2022, 11, 7, 14, 56, 6), sharing_info=NOT_SET, size=41096, symlink_info=NOT_SET), FileMetadata(client_modified=datetime.datetime(2022, 11, 8, 16, 31, 40), content_hash='cc9f37e9fc2406b3b20df64d5ccb561b4913ef6e84b2e96dc71aeaa4ce106dc9', export_info=NOT_SET, file_lock_info=NOT_SET, has_explicit_shared_members=NOT_SET, id='id:jdRcTl7vJ-cAAAAAAAAACQ', is_downloadable=True, media_info=NOT_SET, name='AudioNote2.mp3', parent_shared_folder_id=NOT_SET, path_display='/AudioNote2.mp3', path_lower='/audionote2.mp3', preview_url=NOT_SET, property_groups=NOT_SET, rev='015ecf813288e39000000028159bfa0', server_modified=datetime.datetime(2022, 11, 8, 16, 31, 41), sharing_info=NOT_SET, size=51216, symlink_info=NOT_SET), FileMetadata(client_modified=datetime.datetime(2022, 11, 8, 16, 38, 19), content_hash='c2e257a7e906b73514f4c36262340d39134c0868c16996b90fb656005dfc4c0e', export_info=NOT_SET, file_lock_info=NOT_SET, has_explicit_shared_members=NOT_SET, id='id:jdRcTl7vJ-cAAAAAAAAACg', is_downloadable=True, media_info=NOT_SET, name='AudioNote.wav', parent_shared_folder_id=NOT_SET, path_display='/AudioNote.wav', path_lower='/audionote.wav', preview_url=NOT_SET, property_groups=NOT_SET, rev='015ecf82af506d9000000028159bfa0', server_modified=datetime.datetime(2022, 11, 8, 16, 38, 20), sharing_info=NOT_SET, size=16156, symlink_info=NOT_SET), FileMetadata(client_modified=datetime.datetime(2022, 11, 19, 14, 3, 14), content_hash='772f57f1f8109501e37b4caf6a4dfe823ff1117827dfe6be9d343064a111dfc9', export_info=NOT_SET, file_lock_info=NOT_SET, has_explicit_shared_members=NOT_SET, id='id:jdRcTl7vJ-cAAAAAAAAADQ', is_downloadable=True, media_info=NOT_SET, name='101_1b1_Al_sc_Meditron.txt', parent_shared_folder_id=NOT_SET, path_display='/101_1b1_Al_sc_Meditron.txt', path_lower='/101_1b1_al_sc_meditron.txt', preview_url=NOT_SET, property_groups=NOT_SET, rev='015edd3488789d0000000028159bfa0', server_modified=datetime.datetime(2022, 11, 19, 14, 3, 14), sharing_info=NOT_SET, size=199, symlink_info=NOT_SET)], has_more=False)"
      ]
     },
     "execution_count": 38,
     "metadata": {},
     "output_type": "execute_result"
    }
   ],
   "source": [
    "dbx = dropbox.Dropbox(access)\n",
    "dbx.files_list_folder('')"
   ]
  },
  {
   "cell_type": "markdown",
   "metadata": {},
   "source": [
    "### Download to this folder"
   ]
  },
  {
   "cell_type": "code",
   "execution_count": 50,
   "metadata": {},
   "outputs": [
    {
     "data": {
      "text/plain": [
       "FileMetadata(client_modified=datetime.datetime(2022, 11, 19, 14, 3, 14), content_hash='772f57f1f8109501e37b4caf6a4dfe823ff1117827dfe6be9d343064a111dfc9', export_info=NOT_SET, file_lock_info=NOT_SET, has_explicit_shared_members=NOT_SET, id='id:jdRcTl7vJ-cAAAAAAAAADQ', is_downloadable=True, media_info=NOT_SET, name='101_1b1_Al_sc_Meditron.txt', parent_shared_folder_id=NOT_SET, path_display='/101_1b1_Al_sc_Meditron.txt', path_lower='/101_1b1_al_sc_meditron.txt', preview_url=NOT_SET, property_groups=NOT_SET, rev='015edd3488789d0000000028159bfa0', server_modified=datetime.datetime(2022, 11, 19, 14, 3, 14), sharing_info=NOT_SET, size=199, symlink_info=NOT_SET)"
      ]
     },
     "execution_count": 50,
     "metadata": {},
     "output_type": "execute_result"
    }
   ],
   "source": [
    "dbx.files_download_to_file('hallo.txt','/101_1b1_Al_sc_Meditron.txt')\n",
    "# might also be of use: raf_f = dbx.files_download('/101_1b1_Al_sc_Meditron.txt')"
   ]
  },
  {
   "cell_type": "code",
   "execution_count": 51,
   "metadata": {},
   "outputs": [
    {
     "data": {
      "text/plain": [
       "FileMetadata(client_modified=datetime.datetime(2022, 11, 7, 14, 56, 5), content_hash='670fb7bf124e22e520f1cfe22ea8265c96fa03f538e214098560276580bb3cca', export_info=NOT_SET, file_lock_info=NOT_SET, has_explicit_shared_members=NOT_SET, id='id:jdRcTl7vJ-cAAAAAAAAACA', is_downloadable=True, media_info=NOT_SET, name='AudioNote.mp3', parent_shared_folder_id=NOT_SET, path_display='/AudioNote.mp3', path_lower='/audionote.mp3', preview_url=NOT_SET, property_groups=NOT_SET, rev='015ece29f8195ef000000028159bfa0', server_modified=datetime.datetime(2022, 11, 7, 14, 56, 6), sharing_info=NOT_SET, size=41096, symlink_info=NOT_SET)"
      ]
     },
     "execution_count": 51,
     "metadata": {},
     "output_type": "execute_result"
    }
   ],
   "source": [
    "dbx.files_download_to_file('AudioNote.mp3','/AudioNote.mp3')"
   ]
  },
  {
   "cell_type": "code",
   "execution_count": 54,
   "metadata": {},
   "outputs": [
    {
     "data": {
      "text/plain": [
       "FileMetadata(client_modified=datetime.datetime(2022, 11, 8, 16, 38, 19), content_hash='c2e257a7e906b73514f4c36262340d39134c0868c16996b90fb656005dfc4c0e', export_info=NOT_SET, file_lock_info=NOT_SET, has_explicit_shared_members=NOT_SET, id='id:jdRcTl7vJ-cAAAAAAAAACg', is_downloadable=True, media_info=NOT_SET, name='AudioNote.wav', parent_shared_folder_id=NOT_SET, path_display='/AudioNote.wav', path_lower='/audionote.wav', preview_url=NOT_SET, property_groups=NOT_SET, rev='015ecf82af506d9000000028159bfa0', server_modified=datetime.datetime(2022, 11, 8, 16, 38, 20), sharing_info=NOT_SET, size=16156, symlink_info=NOT_SET)"
      ]
     },
     "execution_count": 54,
     "metadata": {},
     "output_type": "execute_result"
    }
   ],
   "source": [
    "dbx.files_download_to_file('AudioNote.wav','/AudioNote.wav')"
   ]
  }
 ],
 "metadata": {
  "kernelspec": {
   "display_name": "Python 3.9.8 ('.venv': venv)",
   "language": "python",
   "name": "python3"
  },
  "language_info": {
   "codemirror_mode": {
    "name": "ipython",
    "version": 3
   },
   "file_extension": ".py",
   "mimetype": "text/x-python",
   "name": "python",
   "nbconvert_exporter": "python",
   "pygments_lexer": "ipython3",
   "version": "3.9.8"
  },
  "orig_nbformat": 4,
  "vscode": {
   "interpreter": {
    "hash": "26e49bc044355d0fb742e5df05603d7a6745ee0fd0264a60b64034172fdecd97"
   }
  }
 },
 "nbformat": 4,
 "nbformat_minor": 2
}
