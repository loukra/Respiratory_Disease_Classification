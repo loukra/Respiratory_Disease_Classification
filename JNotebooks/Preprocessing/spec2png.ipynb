{
 "cells": [
  {
   "cell_type": "code",
   "execution_count": 1,
   "metadata": {},
   "outputs": [],
   "source": [
    "import os\n",
    "import IPython\n",
    "\n",
    "from scipy.io import wavfile\n",
    "import pandas as pd\n",
    "import matplotlib.pyplot as plt\n",
    "import numpy as np\n",
    "import seaborn as sns\n",
    "from tqdm import tqdm\n",
    "\n",
    "import librosa\n",
    "from librosa.feature import melspectrogram\n",
    "from librosa.display import specshow\n",
    "from librosa import power_to_db, get_samplerate, load\n",
    "\n",
    "# import functions from scripts directory\n",
    "import sys\n",
    "sys.path.insert(1, '../../scripts/') # caution: path[0] is reserved for script path (or '' in REPL)\n",
    "\n",
    "from audio_utils import audio_preprocessing\n",
    "from spec2png import spec2png"
   ]
  },
  {
   "cell_type": "code",
   "execution_count": 2,
   "metadata": {},
   "outputs": [
    {
     "data": {
      "text/html": [
       "<div>\n",
       "<style scoped>\n",
       "    .dataframe tbody tr th:only-of-type {\n",
       "        vertical-align: middle;\n",
       "    }\n",
       "\n",
       "    .dataframe tbody tr th {\n",
       "        vertical-align: top;\n",
       "    }\n",
       "\n",
       "    .dataframe thead th {\n",
       "        text-align: right;\n",
       "    }\n",
       "</style>\n",
       "<table border=\"1\" class=\"dataframe\">\n",
       "  <thead>\n",
       "    <tr style=\"text-align: right;\">\n",
       "      <th></th>\n",
       "      <th>Unnamed: 0</th>\n",
       "      <th>id</th>\n",
       "      <th>diagnosis</th>\n",
       "      <th>train_test</th>\n",
       "      <th>filename</th>\n",
       "      <th>is_healthy</th>\n",
       "    </tr>\n",
       "  </thead>\n",
       "  <tbody>\n",
       "    <tr>\n",
       "      <th>0</th>\n",
       "      <td>0</td>\n",
       "      <td>i101</td>\n",
       "      <td>urti</td>\n",
       "      <td>test</td>\n",
       "      <td>101_1b1_Al_sc_Meditron.wav</td>\n",
       "      <td>0</td>\n",
       "    </tr>\n",
       "    <tr>\n",
       "      <th>1</th>\n",
       "      <td>1</td>\n",
       "      <td>i101</td>\n",
       "      <td>urti</td>\n",
       "      <td>test</td>\n",
       "      <td>101_1b1_Pr_sc_Meditron.wav</td>\n",
       "      <td>0</td>\n",
       "    </tr>\n",
       "    <tr>\n",
       "      <th>2</th>\n",
       "      <td>2</td>\n",
       "      <td>i102</td>\n",
       "      <td>healthy</td>\n",
       "      <td>test</td>\n",
       "      <td>102_1b1_Ar_sc_Meditron.wav</td>\n",
       "      <td>1</td>\n",
       "    </tr>\n",
       "    <tr>\n",
       "      <th>3</th>\n",
       "      <td>3</td>\n",
       "      <td>i103</td>\n",
       "      <td>asthma</td>\n",
       "      <td>train</td>\n",
       "      <td>103_2b2_Ar_mc_LittC2SE.wav</td>\n",
       "      <td>0</td>\n",
       "    </tr>\n",
       "    <tr>\n",
       "      <th>4</th>\n",
       "      <td>4</td>\n",
       "      <td>i104</td>\n",
       "      <td>copd</td>\n",
       "      <td>test</td>\n",
       "      <td>104_1b1_Al_sc_Litt3200.wav</td>\n",
       "      <td>0</td>\n",
       "    </tr>\n",
       "  </tbody>\n",
       "</table>\n",
       "</div>"
      ],
      "text/plain": [
       "   Unnamed: 0    id diagnosis train_test                    filename  \\\n",
       "0           0  i101      urti       test  101_1b1_Al_sc_Meditron.wav   \n",
       "1           1  i101      urti       test  101_1b1_Pr_sc_Meditron.wav   \n",
       "2           2  i102   healthy       test  102_1b1_Ar_sc_Meditron.wav   \n",
       "3           3  i103    asthma      train  103_2b2_Ar_mc_LittC2SE.wav   \n",
       "4           4  i104      copd       test  104_1b1_Al_sc_Litt3200.wav   \n",
       "\n",
       "   is_healthy  \n",
       "0           0  \n",
       "1           0  \n",
       "2           1  \n",
       "3           0  \n",
       "4           0  "
      ]
     },
     "execution_count": 2,
     "metadata": {},
     "output_type": "execute_result"
    }
   ],
   "source": [
    "anno_df = pd.read_csv(\"../../data/annotations.csv\")\n",
    "anno_df['filename'].values[0]\n",
    "anno_df.head()"
   ]
  },
  {
   "cell_type": "code",
   "execution_count": 3,
   "metadata": {},
   "outputs": [
    {
     "name": "stdout",
     "output_type": "stream",
     "text": [
      "\u001b[H\u001b[2J"
     ]
    },
    {
     "data": {
      "text/html": [
       "<div>\n",
       "<style scoped>\n",
       "    .dataframe tbody tr th:only-of-type {\n",
       "        vertical-align: middle;\n",
       "    }\n",
       "\n",
       "    .dataframe tbody tr th {\n",
       "        vertical-align: top;\n",
       "    }\n",
       "\n",
       "    .dataframe thead th {\n",
       "        text-align: right;\n",
       "    }\n",
       "</style>\n",
       "<table border=\"1\" class=\"dataframe\">\n",
       "  <thead>\n",
       "    <tr style=\"text-align: right;\">\n",
       "      <th></th>\n",
       "      <th>Unnamed: 0</th>\n",
       "      <th>id</th>\n",
       "      <th>diagnosis</th>\n",
       "      <th>train_test</th>\n",
       "      <th>filename</th>\n",
       "      <th>is_healthy</th>\n",
       "    </tr>\n",
       "  </thead>\n",
       "  <tbody>\n",
       "    <tr>\n",
       "      <th>1249</th>\n",
       "      <td>1249</td>\n",
       "      <td>f112</td>\n",
       "      <td>healthy</td>\n",
       "      <td>test</td>\n",
       "      <td>EP112_N,N,P L M,30,M.wav</td>\n",
       "      <td>1</td>\n",
       "    </tr>\n",
       "  </tbody>\n",
       "</table>\n",
       "</div>"
      ],
      "text/plain": [
       "      Unnamed: 0    id diagnosis train_test                  filename  \\\n",
       "1249        1249  f112   healthy       test  EP112_N,N,P L M,30,M.wav   \n",
       "\n",
       "      is_healthy  \n",
       "1249           1  "
      ]
     },
     "metadata": {},
     "output_type": "display_data"
    },
    {
     "name": "stderr",
     "output_type": "stream",
     "text": [
      "100%|██████████| 374/374 [1:41:19<00:00, 16.25s/it]\n"
     ]
    },
    {
     "data": {
      "text/plain": [
       "374"
      ]
     },
     "execution_count": 3,
     "metadata": {},
     "output_type": "execute_result"
    },
    {
     "data": {
      "image/png": "[encoded data removed]",
      "text/plain": [
       "<Figure size 640x480 with 1568 Axes>"
      ]
     },
     "metadata": {},
     "output_type": "display_data"
    }
   ],
   "source": [
    "from IPython.display import display, clear_output\n",
    "import time\n",
    "\n",
    "def gen_img(df:pd.DataFrame):\n",
    "    \n",
    "    i = 0\n",
    "\n",
    "    for idx in tqdm(range(df.shape[0])):\n",
    "        row = df.iloc[[idx],:]\n",
    "        \n",
    "\n",
    "        # start_time = time.time()\n",
    "        y, anno_chunk = audio_preprocessing(row)\n",
    "        # print(\"audio processing --- %s seconds ---\" % (time.time() - start_time))\n",
    "\n",
    "        # start_time = time.time()\n",
    "        result = spec2png(y,anno_chunk, window=\"hann\")\n",
    "        # print(\"Mel_log->png --- %s seconds ---\" % (time.time() - start_time))\n",
    "\n",
    "        i += result\n",
    "        clear_output(wait=True)\n",
    "        os.system('clear')\n",
    "\n",
    "        display(row)\n",
    "\n",
    "\n",
    "    return i\n",
    "    \n",
    "gen_img(anno_df)"
   ]
  }
 ],
 "metadata": {
  "kernelspec": {
   "display_name": "Python 3.9.8 ('.venv': venv)",
   "language": "python",
   "name": "python3"
  },
  "language_info": {
   "codemirror_mode": {
    "name": "ipython",
    "version": 3
   },
   "file_extension": ".py",
   "mimetype": "text/x-python",
   "name": "python",
   "nbconvert_exporter": "python",
   "pygments_lexer": "ipython3",
   "version": "3.9.8"
  },
  "orig_nbformat": 4,
  "vscode": {
   "interpreter": {
    "hash": "f22d6e1ed2f07f99891de3deced0b89877131ec4e9ef94974ed162ef8311fd50"
   }
  }
 },
 "nbformat": 4,
 "nbformat_minor": 2
}
