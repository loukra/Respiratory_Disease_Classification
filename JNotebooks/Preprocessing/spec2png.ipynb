{
 "cells": [
  {
   "cell_type": "code",
   "execution_count": 1,
   "metadata": {},
   "outputs": [],
   "source": [
    "import os\n",
    "import IPython\n",
    "\n",
    "from scipy.io import wavfile\n",
    "import pandas as pd\n",
    "import matplotlib.pyplot as plt\n",
    "import numpy as np\n",
    "import seaborn as sns\n",
    "\n",
    "import librosa\n",
    "from librosa.feature import melspectrogram\n",
    "from librosa.display import specshow\n",
    "from librosa import power_to_db, get_samplerate, load\n",
    "\n",
    "# import functions from scripts directory\n",
    "import sys\n",
    "sys.path.insert(1, '../../scripts/') # caution: path[0] is reserved for script path (or '' in REPL)\n",
    "\n",
    "from audio_utils import audio_preprocessing\n",
    "from spec2png import spec2png"
   ]
  },
  {
   "cell_type": "code",
   "execution_count": 2,
   "metadata": {},
   "outputs": [],
   "source": [
    "anno_df = pd.read_csv(\"../../data/annotations.csv\")\n",
    "anno_df['filename'].values[0]\n",
    "anno = anno_df.iloc[[3],:]"
   ]
  },
  {
   "cell_type": "code",
   "execution_count": 3,
   "metadata": {},
   "outputs": [
    {
     "ename": "NameError",
     "evalue": "name 'save_png' is not defined",
     "output_type": "error",
     "traceback": [
      "\u001b[0;31m---------------------------------------------------------------------------\u001b[0m",
      "\u001b[0;31mNameError\u001b[0m                                 Traceback (most recent call last)",
      "Cell \u001b[0;32mIn [3], line 3\u001b[0m\n\u001b[1;32m      1\u001b[0m y, anno_chunk \u001b[39m=\u001b[39m audio_preprocessing(anno)\n\u001b[0;32m----> 3\u001b[0m save_png(y,anno_chunk)\n",
      "\u001b[0;31mNameError\u001b[0m: name 'save_png' is not defined"
     ]
    }
   ],
   "source": [
    "y, anno_chunk = audio_preprocessing(anno)\n",
    "\n",
    "spec2png(y,anno_chunk)"
   ]
  }
 ],
 "metadata": {
  "kernelspec": {
   "display_name": "Python 3.9.8 ('.venv': venv)",
   "language": "python",
   "name": "python3"
  },
  "language_info": {
   "codemirror_mode": {
    "name": "ipython",
    "version": 3
   },
   "file_extension": ".py",
   "mimetype": "text/x-python",
   "name": "python",
   "nbconvert_exporter": "python",
   "pygments_lexer": "ipython3",
   "version": "3.9.8"
  },
  "orig_nbformat": 4,
  "vscode": {
   "interpreter": {
    "hash": "f22d6e1ed2f07f99891de3deced0b89877131ec4e9ef94974ed162ef8311fd50"
   }
  }
 },
 "nbformat": 4,
 "nbformat_minor": 2
}
