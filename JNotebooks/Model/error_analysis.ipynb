{
 "cells": [
  {
   "cell_type": "markdown",
   "metadata": {},
   "source": [
    "## Error Analysis"
   ]
  },
  {
   "cell_type": "markdown",
   "metadata": {},
   "source": []
  },
  {
   "cell_type": "code",
   "execution_count": 1,
   "metadata": {},
   "outputs": [],
   "source": [
    "import pandas as pd"
   ]
  },
  {
   "cell_type": "code",
   "execution_count": 54,
   "metadata": {},
   "outputs": [],
   "source": [
    "df_svm = pd.read_csv('/Users/liki/neuefische/Respiratory_Disease_Classification/data/misclassified_svm.csv')\n",
    "df_resnet = pd.read_csv('/Users/liki/neuefische/Respiratory_Disease_Classification/data/misclassified_testset_ResNet.csv')"
   ]
  },
  {
   "cell_type": "code",
   "execution_count": 57,
   "metadata": {},
   "outputs": [],
   "source": [
    "# df_svm['filename'] = df_svm['filename'].apply(lambda x: x[2:6])\n",
    "df_svm['filename'] = df_svm['filename'].apply(lambda x: x.replace('_',''))"
   ]
  },
  {
   "cell_type": "code",
   "execution_count": 66,
   "metadata": {},
   "outputs": [
    {
     "data": {
      "text/plain": [
       "(34,)"
      ]
     },
     "execution_count": 66,
     "metadata": {},
     "output_type": "execute_result"
    }
   ],
   "source": [
    "file_svm = df_svm['filename'].unique()\n",
    "file_svm.shape"
   ]
  },
  {
   "cell_type": "code",
   "execution_count": 65,
   "metadata": {},
   "outputs": [
    {
     "data": {
      "text/plain": [
       "(42,)"
      ]
     },
     "execution_count": 65,
     "metadata": {},
     "output_type": "execute_result"
    }
   ],
   "source": [
    "# df_resnet['filename'] = df_resnet['filename'].apply(lambda x: x[4:8])\n",
    "df_resnet.tail(20)\n",
    "file_rn = df_resnet['filename'].unique()\n",
    "file_rn.shape"
   ]
  },
  {
   "cell_type": "code",
   "execution_count": 68,
   "metadata": {},
   "outputs": [
    {
     "name": "stdout",
     "output_type": "stream",
     "text": [
      "21\n"
     ]
    },
    {
     "data": {
      "text/plain": [
       "['f101',\n",
       " 'i109',\n",
       " 'i150',\n",
       " 'i160',\n",
       " 'i185',\n",
       " 'i195',\n",
       " 'i211',\n",
       " 'i223',\n",
       " 'i102',\n",
       " 'i126',\n",
       " 'i136',\n",
       " 'i143',\n",
       " 'i144',\n",
       " 'i171',\n",
       " 'i182',\n",
       " 'i187',\n",
       " 'i194',\n",
       " 'i202',\n",
       " 'i214',\n",
       " 'i224',\n",
       " 'i225']"
      ]
     },
     "execution_count": 68,
     "metadata": {},
     "output_type": "execute_result"
    }
   ],
   "source": [
    "def intersection(lst1, lst2):\n",
    "    lst3 = [value for value in lst1 if value in lst2]\n",
    "    return lst3\n",
    "\n",
    "print(len(intersection(file_rn, file_svm)))\n",
    "intersection(file_rn, file_svm)"
   ]
  },
  {
   "cell_type": "code",
   "execution_count": null,
   "metadata": {},
   "outputs": [],
   "source": []
  }
 ],
 "metadata": {
  "kernelspec": {
   "display_name": "Python 3.9.8 ('.venv': venv)",
   "language": "python",
   "name": "python3"
  },
  "language_info": {
   "codemirror_mode": {
    "name": "ipython",
    "version": 3
   },
   "file_extension": ".py",
   "mimetype": "text/x-python",
   "name": "python",
   "nbconvert_exporter": "python",
   "pygments_lexer": "ipython3",
   "version": "3.9.8"
  },
  "orig_nbformat": 4,
  "vscode": {
   "interpreter": {
    "hash": "f22d6e1ed2f07f99891de3deced0b89877131ec4e9ef94974ed162ef8311fd50"
   }
  }
 },
 "nbformat": 4,
 "nbformat_minor": 2
}
