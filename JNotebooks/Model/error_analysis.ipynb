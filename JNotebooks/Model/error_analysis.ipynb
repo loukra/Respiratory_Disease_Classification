{
 "cells": [
  {
   "cell_type": "markdown",
   "metadata": {},
   "source": [
    "## Error Analysis"
   ]
  },
  {
   "cell_type": "markdown",
   "metadata": {},
   "source": []
  },
  {
   "cell_type": "code",
   "execution_count": 48,
   "metadata": {},
   "outputs": [],
   "source": [
    "import pandas as pd\n",
    "import joblib\n",
    "import matplotlib.pyplot as plt\n",
    "import numpy as np"
   ]
  },
  {
   "cell_type": "code",
   "execution_count": 54,
   "metadata": {},
   "outputs": [],
   "source": [
    "df_svm = pd.read_csv('/Users/liki/neuefische/Respiratory_Disease_Classification/data/misclassified_svm.csv')\n",
    "df_resnet = pd.read_csv('/Users/liki/neuefische/Respiratory_Disease_Classification/data/misclassified_testset_ResNet.csv')"
   ]
  },
  {
   "cell_type": "code",
   "execution_count": 55,
   "metadata": {},
   "outputs": [
    {
     "data": {
      "text/html": [
       "<div>\n",
       "<style scoped>\n",
       "    .dataframe tbody tr th:only-of-type {\n",
       "        vertical-align: middle;\n",
       "    }\n",
       "\n",
       "    .dataframe tbody tr th {\n",
       "        vertical-align: top;\n",
       "    }\n",
       "\n",
       "    .dataframe thead th {\n",
       "        text-align: right;\n",
       "    }\n",
       "</style>\n",
       "<table border=\"1\" class=\"dataframe\">\n",
       "  <thead>\n",
       "    <tr style=\"text-align: right;\">\n",
       "      <th></th>\n",
       "      <th>Unnamed: 0</th>\n",
       "      <th>filename</th>\n",
       "      <th>actual</th>\n",
       "      <th>pred</th>\n",
       "    </tr>\n",
       "  </thead>\n",
       "  <tbody>\n",
       "    <tr>\n",
       "      <th>0</th>\n",
       "      <td>6</td>\n",
       "      <td>i194</td>\n",
       "      <td>1</td>\n",
       "      <td>0</td>\n",
       "    </tr>\n",
       "    <tr>\n",
       "      <th>1</th>\n",
       "      <td>7</td>\n",
       "      <td>i194</td>\n",
       "      <td>1</td>\n",
       "      <td>0</td>\n",
       "    </tr>\n",
       "    <tr>\n",
       "      <th>2</th>\n",
       "      <td>10</td>\n",
       "      <td>f73</td>\n",
       "      <td>1</td>\n",
       "      <td>0</td>\n",
       "    </tr>\n",
       "    <tr>\n",
       "      <th>3</th>\n",
       "      <td>11</td>\n",
       "      <td>i194</td>\n",
       "      <td>1</td>\n",
       "      <td>0</td>\n",
       "    </tr>\n",
       "    <tr>\n",
       "      <th>4</th>\n",
       "      <td>15</td>\n",
       "      <td>i171</td>\n",
       "      <td>1</td>\n",
       "      <td>0</td>\n",
       "    </tr>\n",
       "  </tbody>\n",
       "</table>\n",
       "</div>"
      ],
      "text/plain": [
       "   Unnamed: 0 filename  actual  pred\n",
       "0           6     i194       1     0\n",
       "1           7     i194       1     0\n",
       "2          10      f73       1     0\n",
       "3          11     i194       1     0\n",
       "4          15     i171       1     0"
      ]
     },
     "execution_count": 55,
     "metadata": {},
     "output_type": "execute_result"
    }
   ],
   "source": [
    "# df_svm['filename'] = df_svm['filename'].apply(lambda x: x[2:6])\n",
    "# df_svm['filename'] = df_svm['filename'].apply(lambda x: x.replace('_',''))\n",
    "df_svm.head()"
   ]
  },
  {
   "cell_type": "code",
   "execution_count": 56,
   "metadata": {},
   "outputs": [
    {
     "data": {
      "text/plain": [
       "i194    34\n",
       "i224    34\n",
       "i144    31\n",
       "i171    17\n",
       "i102    17\n",
       "i136    17\n",
       "i123    17\n",
       "i126    16\n",
       "i202    16\n",
       "i214    16\n",
       "i143    14\n",
       "i187    11\n",
       "f85     11\n",
       "i225     9\n",
       "f99      7\n",
       "i182     6\n",
       "f82      6\n",
       "f72      5\n",
       "f63      5\n",
       "f80      4\n",
       "f69      4\n",
       "f101     3\n",
       "f73      3\n",
       "f64      3\n",
       "i223     2\n",
       "f55      2\n",
       "i109     2\n",
       "i185     1\n",
       "i150     1\n",
       "f87      1\n",
       "i195     1\n",
       "i211     1\n",
       "f75      1\n",
       "i160     1\n",
       "Name: filename, dtype: int64"
      ]
     },
     "execution_count": 56,
     "metadata": {},
     "output_type": "execute_result"
    }
   ],
   "source": [
    "df_svm['filename'].value_counts()"
   ]
  },
  {
   "cell_type": "code",
   "execution_count": 57,
   "metadata": {},
   "outputs": [
    {
     "data": {
      "text/plain": [
       "(34,)"
      ]
     },
     "execution_count": 57,
     "metadata": {},
     "output_type": "execute_result"
    }
   ],
   "source": [
    "file_svm = df_svm['filename'].unique()\n",
    "file_svm.shape"
   ]
  },
  {
   "cell_type": "code",
   "execution_count": 58,
   "metadata": {},
   "outputs": [
    {
     "data": {
      "text/plain": [
       "(42,)"
      ]
     },
     "execution_count": 58,
     "metadata": {},
     "output_type": "execute_result"
    }
   ],
   "source": [
    "# df_resnet['filename'] = df_resnet['filename'].apply(lambda x: x[4:8])\n",
    "# df_resnet['filename'] = df_resnet['filename'].apply(lambda x: x.replace('\\'',''))\n",
    "\n",
    "df_resnet.tail(20)\n",
    "file_rn = df_resnet['filename'].unique()\n",
    "file_rn.shape\n",
    "df_resnet.filename.value_counts()"
   ]
  },
  {
   "cell_type": "code",
   "execution_count": 21,
   "metadata": {},
   "outputs": [
    {
     "name": "stdout",
     "output_type": "stream",
     "text": [
      "28\n"
     ]
    },
    {
     "data": {
      "text/plain": [
       "['f101',\n",
       " 'f55',\n",
       " 'f63',\n",
       " 'f64',\n",
       " 'f69',\n",
       " 'i109',\n",
       " 'i150',\n",
       " 'i160',\n",
       " 'i185',\n",
       " 'i195',\n",
       " 'i211',\n",
       " 'i223',\n",
       " 'f72',\n",
       " 'f85',\n",
       " 'f99',\n",
       " 'i102',\n",
       " 'i126',\n",
       " 'i136',\n",
       " 'i143',\n",
       " 'i144',\n",
       " 'i171',\n",
       " 'i182',\n",
       " 'i187',\n",
       " 'i194',\n",
       " 'i202',\n",
       " 'i214',\n",
       " 'i224',\n",
       " 'i225']"
      ]
     },
     "execution_count": 21,
     "metadata": {},
     "output_type": "execute_result"
    }
   ],
   "source": [
    "def intersection(lst1, lst2):\n",
    "    lst3 = [value for value in lst1 if value in lst2]\n",
    "    return lst3\n",
    "\n",
    "print(len(intersection(file_rn, file_svm)))\n",
    "intersection(file_rn, file_svm)"
   ]
  },
  {
   "cell_type": "code",
   "execution_count": 61,
   "metadata": {},
   "outputs": [
    {
     "data": {
      "text/html": [
       "<div>\n",
       "<style scoped>\n",
       "    .dataframe tbody tr th:only-of-type {\n",
       "        vertical-align: middle;\n",
       "    }\n",
       "\n",
       "    .dataframe tbody tr th {\n",
       "        vertical-align: top;\n",
       "    }\n",
       "\n",
       "    .dataframe thead th {\n",
       "        text-align: right;\n",
       "    }\n",
       "</style>\n",
       "<table border=\"1\" class=\"dataframe\">\n",
       "  <thead>\n",
       "    <tr style=\"text-align: right;\">\n",
       "      <th></th>\n",
       "      <th>Unnamed: 0</th>\n",
       "      <th>id</th>\n",
       "      <th>diagnosis</th>\n",
       "      <th>train_test</th>\n",
       "      <th>filename</th>\n",
       "      <th>is_healthy</th>\n",
       "    </tr>\n",
       "  </thead>\n",
       "  <tbody>\n",
       "    <tr>\n",
       "      <th>0</th>\n",
       "      <td>0</td>\n",
       "      <td>i101</td>\n",
       "      <td>urti</td>\n",
       "      <td>test</td>\n",
       "      <td>101_1b1_Al_sc_Meditron.wav</td>\n",
       "      <td>0</td>\n",
       "    </tr>\n",
       "    <tr>\n",
       "      <th>1</th>\n",
       "      <td>1</td>\n",
       "      <td>i101</td>\n",
       "      <td>urti</td>\n",
       "      <td>test</td>\n",
       "      <td>101_1b1_Pr_sc_Meditron.wav</td>\n",
       "      <td>0</td>\n",
       "    </tr>\n",
       "    <tr>\n",
       "      <th>2</th>\n",
       "      <td>2</td>\n",
       "      <td>i102</td>\n",
       "      <td>healthy</td>\n",
       "      <td>test</td>\n",
       "      <td>102_1b1_Ar_sc_Meditron.wav</td>\n",
       "      <td>1</td>\n",
       "    </tr>\n",
       "    <tr>\n",
       "      <th>3</th>\n",
       "      <td>3</td>\n",
       "      <td>i103</td>\n",
       "      <td>asthma</td>\n",
       "      <td>train</td>\n",
       "      <td>103_2b2_Ar_mc_LittC2SE.wav</td>\n",
       "      <td>0</td>\n",
       "    </tr>\n",
       "    <tr>\n",
       "      <th>4</th>\n",
       "      <td>4</td>\n",
       "      <td>i104</td>\n",
       "      <td>copd</td>\n",
       "      <td>test</td>\n",
       "      <td>104_1b1_Al_sc_Litt3200.wav</td>\n",
       "      <td>0</td>\n",
       "    </tr>\n",
       "  </tbody>\n",
       "</table>\n",
       "</div>"
      ],
      "text/plain": [
       "   Unnamed: 0    id diagnosis train_test                    filename  \\\n",
       "0           0  i101      urti       test  101_1b1_Al_sc_Meditron.wav   \n",
       "1           1  i101      urti       test  101_1b1_Pr_sc_Meditron.wav   \n",
       "2           2  i102   healthy       test  102_1b1_Ar_sc_Meditron.wav   \n",
       "3           3  i103    asthma      train  103_2b2_Ar_mc_LittC2SE.wav   \n",
       "4           4  i104      copd       test  104_1b1_Al_sc_Litt3200.wav   \n",
       "\n",
       "   is_healthy  \n",
       "0           0  \n",
       "1           0  \n",
       "2           1  \n",
       "3           0  \n",
       "4           0  "
      ]
     },
     "execution_count": 61,
     "metadata": {},
     "output_type": "execute_result"
    }
   ],
   "source": [
    "df_anno = pd.read_csv('/Users/liki/neuefische/Respiratory_Disease_Classification/data/annotations.csv')\n",
    "df_anno.head()"
   ]
  },
  {
   "cell_type": "code",
   "execution_count": 62,
   "metadata": {},
   "outputs": [
    {
     "data": {
      "text/plain": [
       "57"
      ]
     },
     "execution_count": 62,
     "metadata": {},
     "output_type": "execute_result"
    }
   ],
   "source": [
    "df_anno[df_anno.train_test=='test'].id.nunique()"
   ]
  },
  {
   "cell_type": "code",
   "execution_count": 63,
   "metadata": {},
   "outputs": [
    {
     "data": {
      "text/html": [
       "<div>\n",
       "<style scoped>\n",
       "    .dataframe tbody tr th:only-of-type {\n",
       "        vertical-align: middle;\n",
       "    }\n",
       "\n",
       "    .dataframe tbody tr th {\n",
       "        vertical-align: top;\n",
       "    }\n",
       "\n",
       "    .dataframe thead th {\n",
       "        text-align: right;\n",
       "    }\n",
       "</style>\n",
       "<table border=\"1\" class=\"dataframe\">\n",
       "  <thead>\n",
       "    <tr style=\"text-align: right;\">\n",
       "      <th></th>\n",
       "      <th>filename</th>\n",
       "    </tr>\n",
       "  </thead>\n",
       "  <tbody>\n",
       "    <tr>\n",
       "      <th>0</th>\n",
       "      <td>1_f75_4496.png</td>\n",
       "    </tr>\n",
       "    <tr>\n",
       "      <th>1</th>\n",
       "      <td>1_f75_4482.png</td>\n",
       "    </tr>\n",
       "    <tr>\n",
       "      <th>2</th>\n",
       "      <td>1_f82_4706.png</td>\n",
       "    </tr>\n",
       "    <tr>\n",
       "      <th>3</th>\n",
       "      <td>1_f75_4469.png</td>\n",
       "    </tr>\n",
       "    <tr>\n",
       "      <th>4</th>\n",
       "      <td>1_f87_4917.png</td>\n",
       "    </tr>\n",
       "    <tr>\n",
       "      <th>...</th>\n",
       "      <td>...</td>\n",
       "    </tr>\n",
       "    <tr>\n",
       "      <th>1627</th>\n",
       "      <td>0_i178_2257.png</td>\n",
       "    </tr>\n",
       "    <tr>\n",
       "      <th>1628</th>\n",
       "      <td>0_i176_2100.png</td>\n",
       "    </tr>\n",
       "    <tr>\n",
       "      <th>1629</th>\n",
       "      <td>0_i176_2114.png</td>\n",
       "    </tr>\n",
       "    <tr>\n",
       "      <th>1630</th>\n",
       "      <td>0_i178_2243.png</td>\n",
       "    </tr>\n",
       "    <tr>\n",
       "      <th>1631</th>\n",
       "      <td>0_i176_2128.png</td>\n",
       "    </tr>\n",
       "  </tbody>\n",
       "</table>\n",
       "<p>1632 rows × 1 columns</p>\n",
       "</div>"
      ],
      "text/plain": [
       "             filename\n",
       "0      1_f75_4496.png\n",
       "1      1_f75_4482.png\n",
       "2      1_f82_4706.png\n",
       "3      1_f75_4469.png\n",
       "4      1_f87_4917.png\n",
       "...               ...\n",
       "1627  0_i178_2257.png\n",
       "1628  0_i176_2100.png\n",
       "1629  0_i176_2114.png\n",
       "1630  0_i178_2243.png\n",
       "1631  0_i176_2128.png\n",
       "\n",
       "[1632 rows x 1 columns]"
      ]
     },
     "execution_count": 63,
     "metadata": {},
     "output_type": "execute_result"
    }
   ],
   "source": [
    "data_test = joblib.load('spectrogram_test_80x80px.pkl')\n",
    "files = pd.DataFrame(data_test[\"filename\"], columns = [\"filename\"])\n",
    "files"
   ]
  },
  {
   "cell_type": "code",
   "execution_count": 64,
   "metadata": {},
   "outputs": [
    {
     "data": {
      "text/html": [
       "<div>\n",
       "<style scoped>\n",
       "    .dataframe tbody tr th:only-of-type {\n",
       "        vertical-align: middle;\n",
       "    }\n",
       "\n",
       "    .dataframe tbody tr th {\n",
       "        vertical-align: top;\n",
       "    }\n",
       "\n",
       "    .dataframe thead th {\n",
       "        text-align: right;\n",
       "    }\n",
       "</style>\n",
       "<table border=\"1\" class=\"dataframe\">\n",
       "  <thead>\n",
       "    <tr style=\"text-align: right;\">\n",
       "      <th></th>\n",
       "      <th>filename</th>\n",
       "    </tr>\n",
       "  </thead>\n",
       "  <tbody>\n",
       "    <tr>\n",
       "      <th>0</th>\n",
       "      <td>f75</td>\n",
       "    </tr>\n",
       "    <tr>\n",
       "      <th>1</th>\n",
       "      <td>f75</td>\n",
       "    </tr>\n",
       "    <tr>\n",
       "      <th>2</th>\n",
       "      <td>f82</td>\n",
       "    </tr>\n",
       "    <tr>\n",
       "      <th>3</th>\n",
       "      <td>f75</td>\n",
       "    </tr>\n",
       "    <tr>\n",
       "      <th>4</th>\n",
       "      <td>f87</td>\n",
       "    </tr>\n",
       "    <tr>\n",
       "      <th>...</th>\n",
       "      <td>...</td>\n",
       "    </tr>\n",
       "    <tr>\n",
       "      <th>1627</th>\n",
       "      <td>i178</td>\n",
       "    </tr>\n",
       "    <tr>\n",
       "      <th>1628</th>\n",
       "      <td>i176</td>\n",
       "    </tr>\n",
       "    <tr>\n",
       "      <th>1629</th>\n",
       "      <td>i176</td>\n",
       "    </tr>\n",
       "    <tr>\n",
       "      <th>1630</th>\n",
       "      <td>i178</td>\n",
       "    </tr>\n",
       "    <tr>\n",
       "      <th>1631</th>\n",
       "      <td>i176</td>\n",
       "    </tr>\n",
       "  </tbody>\n",
       "</table>\n",
       "<p>1632 rows × 1 columns</p>\n",
       "</div>"
      ],
      "text/plain": [
       "     filename\n",
       "0         f75\n",
       "1         f75\n",
       "2         f82\n",
       "3         f75\n",
       "4         f87\n",
       "...       ...\n",
       "1627     i178\n",
       "1628     i176\n",
       "1629     i176\n",
       "1630     i178\n",
       "1631     i176\n",
       "\n",
       "[1632 rows x 1 columns]"
      ]
     },
     "execution_count": 64,
     "metadata": {},
     "output_type": "execute_result"
    }
   ],
   "source": [
    "files[\"filename\"] = files[\"filename\"].apply(lambda x: x[2:6])\n",
    "files[\"filename\"] = files[\"filename\"].apply(lambda x: x.replace('_',''))\n",
    "\n",
    "files"
   ]
  },
  {
   "cell_type": "code",
   "execution_count": 69,
   "metadata": {},
   "outputs": [],
   "source": [
    "chunks_re = pd.DataFrame(df_resnet.filename.value_counts())\n",
    "chunks_re.columns = ['resnet']\n",
    "chunks_svm = pd.DataFrame(df_svm.filename.value_counts())\n",
    "chunks_svm.columns = ['svm']\n",
    "chunks_tot = pd.DataFrame(files.filename.value_counts())\n",
    "chunks_tot.columns = ['tot']"
   ]
  },
  {
   "cell_type": "code",
   "execution_count": 90,
   "metadata": {},
   "outputs": [
    {
     "data": {
      "text/html": [
       "<div>\n",
       "<style scoped>\n",
       "    .dataframe tbody tr th:only-of-type {\n",
       "        vertical-align: middle;\n",
       "    }\n",
       "\n",
       "    .dataframe tbody tr th {\n",
       "        vertical-align: top;\n",
       "    }\n",
       "\n",
       "    .dataframe thead th {\n",
       "        text-align: right;\n",
       "    }\n",
       "</style>\n",
       "<table border=\"1\" class=\"dataframe\">\n",
       "  <thead>\n",
       "    <tr style=\"text-align: right;\">\n",
       "      <th></th>\n",
       "      <th>resnet</th>\n",
       "      <th>tot</th>\n",
       "      <th>perc</th>\n",
       "      <th>y</th>\n",
       "    </tr>\n",
       "  </thead>\n",
       "  <tbody>\n",
       "    <tr>\n",
       "      <th>i202</th>\n",
       "      <td>16</td>\n",
       "      <td>16</td>\n",
       "      <td>100.000000</td>\n",
       "      <td>1</td>\n",
       "    </tr>\n",
       "    <tr>\n",
       "      <th>i194</th>\n",
       "      <td>31</td>\n",
       "      <td>34</td>\n",
       "      <td>91.176471</td>\n",
       "      <td>1</td>\n",
       "    </tr>\n",
       "    <tr>\n",
       "      <th>f64</th>\n",
       "      <td>9</td>\n",
       "      <td>12</td>\n",
       "      <td>75.000000</td>\n",
       "      <td>0</td>\n",
       "    </tr>\n",
       "    <tr>\n",
       "      <th>i144</th>\n",
       "      <td>24</td>\n",
       "      <td>33</td>\n",
       "      <td>72.727273</td>\n",
       "      <td>1</td>\n",
       "    </tr>\n",
       "    <tr>\n",
       "      <th>i214</th>\n",
       "      <td>11</td>\n",
       "      <td>16</td>\n",
       "      <td>68.750000</td>\n",
       "      <td>1</td>\n",
       "    </tr>\n",
       "    <tr>\n",
       "      <th>i150</th>\n",
       "      <td>2</td>\n",
       "      <td>3</td>\n",
       "      <td>66.666667</td>\n",
       "      <td>0</td>\n",
       "    </tr>\n",
       "    <tr>\n",
       "      <th>i185</th>\n",
       "      <td>13</td>\n",
       "      <td>20</td>\n",
       "      <td>65.000000</td>\n",
       "      <td>0</td>\n",
       "    </tr>\n",
       "    <tr>\n",
       "      <th>i109</th>\n",
       "      <td>12</td>\n",
       "      <td>20</td>\n",
       "      <td>60.000000</td>\n",
       "      <td>0</td>\n",
       "    </tr>\n",
       "    <tr>\n",
       "      <th>i195</th>\n",
       "      <td>14</td>\n",
       "      <td>24</td>\n",
       "      <td>58.333333</td>\n",
       "      <td>0</td>\n",
       "    </tr>\n",
       "  </tbody>\n",
       "</table>\n",
       "</div>"
      ],
      "text/plain": [
       "      resnet  tot        perc  y\n",
       "i202      16   16  100.000000  1\n",
       "i194      31   34   91.176471  1\n",
       "f64        9   12   75.000000  0\n",
       "i144      24   33   72.727273  1\n",
       "i214      11   16   68.750000  1\n",
       "i150       2    3   66.666667  0\n",
       "i185      13   20   65.000000  0\n",
       "i109      12   20   60.000000  0\n",
       "i195      14   24   58.333333  0"
      ]
     },
     "execution_count": 90,
     "metadata": {},
     "output_type": "execute_result"
    }
   ],
   "source": [
    "err_resnet = chunks_re.join(chunks_tot)\n",
    "err_resnet['perc'] = err_resnet['resnet']/err_resnet['tot'] * 100\n",
    "err_resnet = err_resnet.sort_values(by='perc', ascending=False).join(df_resnet.iloc[:,1:-1].set_index('filename'), how='inner').drop_duplicates().sort_values(by='perc', ascending=False)\n",
    "err_resnet[err_resnet.perc>50]"
   ]
  },
  {
   "cell_type": "code",
   "execution_count": 91,
   "metadata": {},
   "outputs": [
    {
     "data": {
      "text/html": [
       "<div>\n",
       "<style scoped>\n",
       "    .dataframe tbody tr th:only-of-type {\n",
       "        vertical-align: middle;\n",
       "    }\n",
       "\n",
       "    .dataframe tbody tr th {\n",
       "        vertical-align: top;\n",
       "    }\n",
       "\n",
       "    .dataframe thead th {\n",
       "        text-align: right;\n",
       "    }\n",
       "</style>\n",
       "<table border=\"1\" class=\"dataframe\">\n",
       "  <thead>\n",
       "    <tr style=\"text-align: right;\">\n",
       "      <th></th>\n",
       "      <th>svm</th>\n",
       "      <th>tot</th>\n",
       "      <th>perc</th>\n",
       "      <th>actual</th>\n",
       "    </tr>\n",
       "  </thead>\n",
       "  <tbody>\n",
       "    <tr>\n",
       "      <th>i202</th>\n",
       "      <td>16</td>\n",
       "      <td>16</td>\n",
       "      <td>100.000000</td>\n",
       "      <td>1</td>\n",
       "    </tr>\n",
       "    <tr>\n",
       "      <th>i194</th>\n",
       "      <td>34</td>\n",
       "      <td>34</td>\n",
       "      <td>100.000000</td>\n",
       "      <td>1</td>\n",
       "    </tr>\n",
       "    <tr>\n",
       "      <th>i102</th>\n",
       "      <td>17</td>\n",
       "      <td>17</td>\n",
       "      <td>100.000000</td>\n",
       "      <td>1</td>\n",
       "    </tr>\n",
       "    <tr>\n",
       "      <th>i126</th>\n",
       "      <td>16</td>\n",
       "      <td>17</td>\n",
       "      <td>94.117647</td>\n",
       "      <td>1</td>\n",
       "    </tr>\n",
       "    <tr>\n",
       "      <th>i144</th>\n",
       "      <td>31</td>\n",
       "      <td>33</td>\n",
       "      <td>93.939394</td>\n",
       "      <td>1</td>\n",
       "    </tr>\n",
       "    <tr>\n",
       "      <th>i143</th>\n",
       "      <td>14</td>\n",
       "      <td>17</td>\n",
       "      <td>82.352941</td>\n",
       "      <td>1</td>\n",
       "    </tr>\n",
       "    <tr>\n",
       "      <th>i187</th>\n",
       "      <td>11</td>\n",
       "      <td>17</td>\n",
       "      <td>64.705882</td>\n",
       "      <td>1</td>\n",
       "    </tr>\n",
       "    <tr>\n",
       "      <th>f63</th>\n",
       "      <td>5</td>\n",
       "      <td>9</td>\n",
       "      <td>55.555556</td>\n",
       "      <td>0</td>\n",
       "    </tr>\n",
       "    <tr>\n",
       "      <th>i225</th>\n",
       "      <td>9</td>\n",
       "      <td>17</td>\n",
       "      <td>52.941176</td>\n",
       "      <td>1</td>\n",
       "    </tr>\n",
       "    <tr>\n",
       "      <th>f85</th>\n",
       "      <td>11</td>\n",
       "      <td>21</td>\n",
       "      <td>52.380952</td>\n",
       "      <td>1</td>\n",
       "    </tr>\n",
       "  </tbody>\n",
       "</table>\n",
       "</div>"
      ],
      "text/plain": [
       "      svm  tot        perc  actual\n",
       "i202   16   16  100.000000       1\n",
       "i194   34   34  100.000000       1\n",
       "i102   17   17  100.000000       1\n",
       "i126   16   17   94.117647       1\n",
       "i144   31   33   93.939394       1\n",
       "i143   14   17   82.352941       1\n",
       "i187   11   17   64.705882       1\n",
       "f63     5    9   55.555556       0\n",
       "i225    9   17   52.941176       1\n",
       "f85    11   21   52.380952       1"
      ]
     },
     "execution_count": 91,
     "metadata": {},
     "output_type": "execute_result"
    }
   ],
   "source": [
    "err_svm = chunks_svm.join(chunks_tot)\n",
    "err_svm['perc'] = err_svm['svm']/err_svm['tot'] * 100\n",
    "err_svm = err_svm.join(df_svm.iloc[:,1:-1].set_index('filename'), how='inner').drop_duplicates().sort_values(by='perc', ascending=False)\n",
    "err_svm[err_svm.perc>50]"
   ]
  },
  {
   "cell_type": "markdown",
   "metadata": {},
   "source": [
    "i202 100% misclassification rate\n",
    "i224\n",
    "i194\n",
    "i214\n"
   ]
  },
  {
   "cell_type": "markdown",
   "metadata": {},
   "source": [
    "## Use Lime to interpret"
   ]
  },
  {
   "cell_type": "code",
   "execution_count": 24,
   "metadata": {},
   "outputs": [],
   "source": [
    "from lime import lime_image\n",
    "import keras\n",
    "import time\n",
    "import tensorflow as tf\n",
    "\n",
    "import sys\n",
    "sys.path.insert(1, '../../data/cloud')\n",
    "import predict\n",
    "import preprocess"
   ]
  },
  {
   "cell_type": "code",
   "execution_count": 199,
   "metadata": {},
   "outputs": [],
   "source": [
    "explainer = lime_image.LimeImageExplainer()\n",
    "preprocessor = preprocess.AudioPreprocessor()"
   ]
  },
  {
   "cell_type": "code",
   "execution_count": 200,
   "metadata": {},
   "outputs": [],
   "source": [
    "model_path = '/Users/liki/neuefische/Respiratory_Disease_Classification/data/models/ResNet.h5'\n",
    "model = keras.models.load_model(model_path, compile=False)\n",
    "predictor = predict.MyPredictor(model, preprocessor)"
   ]
  },
  {
   "cell_type": "code",
   "execution_count": 201,
   "metadata": {},
   "outputs": [],
   "source": [
    "def load_dataset(folder, batch_size = 32, training=True, image_size = (224, 224), rseed = 8):\n",
    "    # We create a TensorFlow Dataset from the list of files.\n",
    "    # This dataset does not load the data into memory, but instead\n",
    "    # pulls batches one after another.\n",
    "    dataset = tf.keras.utils.image_dataset_from_directory(\n",
    "    folder,\n",
    "    validation_split=None,\n",
    "    shuffle = False,\n",
    "    image_size=IMG_SIZE,\n",
    "    batch_size=None)\n",
    "    \n",
    "    img, lbl = tuple(zip(*dataset))\n",
    "\n",
    "    file_paths = dataset.file_paths\n",
    "    y_patient = ['_'.join(x.split('/')[-1].split('_')[0:2]) for x in file_paths] # -> 0_f1\n",
    "    file_tensor = tf.convert_to_tensor(y_patient)\n",
    "\n",
    "    indices = tf.range(start=0, limit=tf.shape(lbl)[0], dtype=tf.int32)\n",
    "    shuffled_indices = tf.random.shuffle(indices, seed = rseed)\n",
    "\n",
    "    shuffled_x = tf.gather(img, shuffled_indices)\n",
    "    shuffled_y = tf.gather(lbl, shuffled_indices)\n",
    "    shuffled_files = tf.gather(y_patient, shuffled_indices)\n",
    "\n",
    "    dataset = tf.data.Dataset.from_tensor_slices((shuffled_x,shuffled_y))\n",
    "\n",
    "    if training:\n",
    "\n",
    "        y_size = len(shuffled_y)\n",
    "        weight_0 = np.sum(shuffled_y)/ y_size\n",
    "        weight_1 = 1 - weight_0\n",
    "        print(weight_0)\n",
    "        class_weights = { 0 : 2 * weight_0 , 1 : 2.25 * weight_1}\n",
    "\n",
    "\n",
    "        dataset = dataset.map(data_augmentation)\n",
    "        #dataset = tf.data.Dataset.from_tensor_slices(dataset)\n",
    "        dataset = dataset.\\\n",
    "            repeat(count=None) # Infinite iterations\n",
    "    else: \n",
    "        # Evaluation or testing\n",
    "        class_weights = None\n",
    "        y_size = len(shuffled_y)\n",
    "        dataset = dataset.\\\n",
    "            repeat(count=1) # One iteration\n",
    "            \n",
    "    # The dataset will produce batches of BATCH_SIZE and will\n",
    "    # automatically prepare an optimized number of batches while the prior one is\n",
    "    # trained on.\n",
    "    return dataset.batch(batch_size).prefetch(buffer_size=tf.data.AUTOTUNE), shuffled_files, class_weights, y_size"
   ]
  },
  {
   "cell_type": "code",
   "execution_count": 202,
   "metadata": {},
   "outputs": [
    {
     "name": "stdout",
     "output_type": "stream",
     "text": [
      "Found 23 files belonging to 2 classes.\n"
     ]
    }
   ],
   "source": [
    "batch_size = 32\n",
    "test_dir = '../../data/images/error_ana'\n",
    "test_ds, test_files, _, _ = load_dataset(test_dir, batch_size = 32, training=False, rseed = 4)"
   ]
  },
  {
   "cell_type": "code",
   "execution_count": 194,
   "metadata": {},
   "outputs": [
    {
     "data": {
      "image/png": "[encoded data removed]",
      "text/plain": [
       "<Figure size 640x480 with 1 Axes>"
      ]
     },
     "metadata": {},
     "output_type": "display_data"
    }
   ],
   "source": [
    "for images, labels in test_ds.take(5):\n",
    "    labels = labels.numpy()\n",
    "    i = 1\n",
    "    # for i in range(1):\n",
    "        # ax = plt.subplot(3, 4, i + 1)\n",
    "    plt.imshow(images[i].numpy().astype(\"uint8\"))\n",
    "    plt.axis(\"off\")\n",
    "    plt.title(f'Actual {labels[i]}')\n"
   ]
  },
  {
   "cell_type": "code",
   "execution_count": 195,
   "metadata": {},
   "outputs": [],
   "source": [
    "img = images[i].numpy().astype(\"uint8\")"
   ]
  },
  {
   "cell_type": "code",
   "execution_count": 196,
   "metadata": {},
   "outputs": [
    {
     "data": {
      "application/vnd.jupyter.widget-view+json": {
       "model_id": "70ad52ade4ae4f7ba72197cb99015143",
       "version_major": 2,
       "version_minor": 0
      },
      "text/plain": [
       "  0%|          | 0/1000 [00:00<?, ?it/s]"
      ]
     },
     "metadata": {},
     "output_type": "display_data"
    }
   ],
   "source": [
    "explanation = explainer.explain_instance(\n",
    "                img,\n",
    "                model.predict,top_labels=2, hide_color=None,\n",
    "                num_samples=1000\n",
    "                )"
   ]
  },
  {
   "cell_type": "code",
   "execution_count": 197,
   "metadata": {},
   "outputs": [
    {
     "data": {
      "image/png": "[encoded data removed]",
      "text/plain": [
       "<Figure size 640x480 with 1 Axes>"
      ]
     },
     "metadata": {},
     "output_type": "display_data"
    }
   ],
   "source": [
    "from skimage.segmentation import mark_boundaries\n",
    "ind =  explanation.top_labels[0]\n",
    "temp, mask = explanation.get_image_and_mask(explanation.top_labels[0],\n",
    "                                            positive_only=True, num_features=3, \n",
    "                                            hide_rest=False)\n",
    "plt.subplot(121)\n",
    "plt.imshow(mark_boundaries(temp, mask))\n",
    "plt.title(f'classification: {ind}')\n",
    "\n",
    "\n",
    "\n",
    "dict_heatmap = dict(explanation.local_exp[ind])\n",
    "heatmap = np.vectorize(dict_heatmap.get)(explanation.segments) \n",
    "\n",
    "#Plot. The visualization makes more sense if a symmetrical colorbar is used.\n",
    "# plt.subplot(122)\n",
    "# plt.imshow(heatmap, cmap = 'RdBu', vmin  = -heatmap.max(), vmax = heatmap.max())\n",
    "# plt.colorbar()\n",
    "# # plt.title(f'classification: {ind}')\n"
   ]
  },
  {
   "cell_type": "code",
   "execution_count": 198,
   "metadata": {},
   "outputs": [
    {
     "data": {
      "text/plain": [
       "Text(0.5, 1.0, 'classification: 0')"
      ]
     },
     "execution_count": 198,
     "metadata": {},
     "output_type": "execute_result"
    },
    {
     "data": {
      "image/png": "[encoded data removed]",
      "text/plain": [
       "<Figure size 640x480 with 2 Axes>"
      ]
     },
     "metadata": {},
     "output_type": "display_data"
    }
   ],
   "source": [
    "#Map each explanation weight to the corresponding superpixel\n",
    "dict_heatmap = dict(explanation.local_exp[ind])\n",
    "heatmap = np.vectorize(dict_heatmap.get)(explanation.segments) \n",
    "\n",
    "#Plot. The visualization makes more sense if a symmetrical colorbar is used.\n",
    "plt.subplot(121)\n",
    "plt.imshow(heatmap, cmap = 'RdBu', vmin  = -heatmap.max(), vmax = heatmap.max())\n",
    "plt.colorbar()\n",
    "plt.title(f'classification: {ind}')"
   ]
  }
 ],
 "metadata": {
  "kernelspec": {
   "display_name": "Python 3.9.8 ('.venv': venv)",
   "language": "python",
   "name": "python3"
  },
  "language_info": {
   "codemirror_mode": {
    "name": "ipython",
    "version": 3
   },
   "file_extension": ".py",
   "mimetype": "text/x-python",
   "name": "python",
   "nbconvert_exporter": "python",
   "pygments_lexer": "ipython3",
   "version": "3.9.8"
  },
  "orig_nbformat": 4,
  "vscode": {
   "interpreter": {
    "hash": "f22d6e1ed2f07f99891de3deced0b89877131ec4e9ef94974ed162ef8311fd50"
   }
  }
 },
 "nbformat": 4,
 "nbformat_minor": 2
}
