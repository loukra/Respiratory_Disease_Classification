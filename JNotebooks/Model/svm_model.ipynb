{
 "cells": [
  {
   "cell_type": "markdown",
   "metadata": {},
   "source": [
    "# SVG Model "
   ]
  },
  {
   "cell_type": "code",
   "execution_count": 5,
   "metadata": {},
   "outputs": [],
   "source": [
    "%matplotlib inline\n",
    "\n",
    "import numpy as np\n",
    "import os\n",
    "from matplotlib import pyplot as plt\n",
    "\n",
    "from skimage.io import imread \n",
    "from skimage.transform import resize"
   ]
  },
  {
   "cell_type": "code",
   "execution_count": 6,
   "metadata": {},
   "outputs": [],
   "source": [
    "def resize_all(src, pklname, include, width=150, height=None):\n",
    "    \"\"\"\n",
    "    load images from path, resize them and write them as arrays to a dictionary, \n",
    "    together with labels and metadata. The dictionary is written to a pickle file \n",
    "    named '{pklname}_{width}x{height}px.pkl'.\n",
    "     \n",
    "    Parameter\n",
    "    ---------\n",
    "    src: str\n",
    "        path to data\n",
    "    pklname: str\n",
    "        path to output file\n",
    "    width: int\n",
    "        target width of the image in pixels\n",
    "    include: set[str]\n",
    "        set containing str\n",
    "    \"\"\"\n",
    "     \n",
    "    height = height if height is not None else width\n",
    "     \n",
    "    data = dict()\n",
    "    data['description'] = 'resized ({0}x{1}) images in rgb'.format(int(width), int(height))\n",
    "    data['label'] = []\n",
    "    data['filename'] = []\n",
    "    data['data'] = []   \n",
    "     \n",
    "    pklname = f\"{pklname}_{width}x{height}px.pkl\"\n",
    " \n",
    "    # read all images in PATH, resize and write to DESTINATION_PATH\n",
    "    for subdir in os.listdir(src):\n",
    "        if subdir in include:\n",
    "            print(subdir)\n",
    "            current_path = os.path.join(src, subdir)\n",
    " \n",
    "            for file in os.listdir(current_path):\n",
    "                if file[-3:] in {'jpg', 'png'}:\n",
    "                    im = imread(os.path.join(current_path, file))\n",
    "                    im = resize(im, (width, height)) #[:,:,::-1]\n",
    "                    data['label'].append(subdir[:-4])\n",
    "                    data['filename'].append(file)\n",
    "                    data['data'].append(im)\n",
    " \n",
    "        joblib.dump(data, pklname)"
   ]
  },
  {
   "cell_type": "code",
   "execution_count": 25,
   "metadata": {},
   "outputs": [
    {
     "data": {
      "text/plain": [
       "'/Users/liki/neuefische/Respiratory_Disease_Classification/JNotebooks/Model'"
      ]
     },
     "execution_count": 25,
     "metadata": {},
     "output_type": "execute_result"
    }
   ],
   "source": [
    "    ab_dir = os.getcwd()\n",
    "    img_dir = ab_dir.split(folder, 1)[0]+folder+\"data/images\"\n",
    "os.getcwd()"
   ]
  },
  {
   "cell_type": "code",
   "execution_count": 23,
   "metadata": {},
   "outputs": [
    {
     "name": "stdout",
     "output_type": "stream",
     "text": [
      "2985\n",
      "358\n"
     ]
    }
   ],
   "source": [
    "# modify to fit your system\n",
    "data_path_0 = '../../data/images/cls_2/train/health_0'\n",
    "data_path_1 = '../../data/images/cls_2/train/health_1'\n",
    "\n",
    "cls0_arr = os.listdir(data_path_0)\n",
    "cls1_arr = os.listdir(data_path_1)\n",
    "print(len(cls0_arr))\n",
    "print(len(cls1_arr))\n"
   ]
  },
  {
   "cell_type": "code",
   "execution_count": 24,
   "metadata": {},
   "outputs": [
    {
     "name": "stdout",
     "output_type": "stream",
     "text": [
      "0_i130_624.png\n"
     ]
    },
    {
     "ename": "NotADirectoryError",
     "evalue": "[Errno 20] Not a directory: '../../data/images/cls_2/train/health_0/0_i130_624.png'",
     "output_type": "error",
     "traceback": [
      "\u001b[0;31m---------------------------------------------------------------------------\u001b[0m",
      "\u001b[0;31mNotADirectoryError\u001b[0m                        Traceback (most recent call last)",
      "Cell \u001b[0;32mIn [24], line 4\u001b[0m\n\u001b[1;32m      1\u001b[0m base_name \u001b[39m=\u001b[39m \u001b[39m\"\u001b[39m\u001b[39mspectrogram\u001b[39m\u001b[39m\"\u001b[39m\n\u001b[1;32m      2\u001b[0m width \u001b[39m=\u001b[39m \u001b[39m80\u001b[39m\n\u001b[0;32m----> 4\u001b[0m resize_all(src\u001b[39m=\u001b[39;49mdata_path_0, pklname\u001b[39m=\u001b[39;49mbase_name, width\u001b[39m=\u001b[39;49mwidth, include\u001b[39m=\u001b[39;49mcls0_arr)\n",
      "Cell \u001b[0;32mIn [6], line 35\u001b[0m, in \u001b[0;36mresize_all\u001b[0;34m(src, pklname, include, width, height)\u001b[0m\n\u001b[1;32m     32\u001b[0m \u001b[39mprint\u001b[39m(subdir)\n\u001b[1;32m     33\u001b[0m current_path \u001b[39m=\u001b[39m os\u001b[39m.\u001b[39mpath\u001b[39m.\u001b[39mjoin(src, subdir)\n\u001b[0;32m---> 35\u001b[0m \u001b[39mfor\u001b[39;00m file \u001b[39min\u001b[39;00m os\u001b[39m.\u001b[39;49mlistdir(current_path):\n\u001b[1;32m     36\u001b[0m     \u001b[39mif\u001b[39;00m file[\u001b[39m-\u001b[39m\u001b[39m3\u001b[39m:] \u001b[39min\u001b[39;00m {\u001b[39m'\u001b[39m\u001b[39mjpg\u001b[39m\u001b[39m'\u001b[39m, \u001b[39m'\u001b[39m\u001b[39mpng\u001b[39m\u001b[39m'\u001b[39m}:\n\u001b[1;32m     37\u001b[0m         im \u001b[39m=\u001b[39m imread(os\u001b[39m.\u001b[39mpath\u001b[39m.\u001b[39mjoin(current_path, file))\n",
      "\u001b[0;31mNotADirectoryError\u001b[0m: [Errno 20] Not a directory: '../../data/images/cls_2/train/health_0/0_i130_624.png'"
     ]
    }
   ],
   "source": [
    "base_name = \"spectrogram\"\n",
    "width = 80\n",
    "\n",
    "resize_all(src=data_path_0, pklname=base_name, width=width, include=cls0_arr)"
   ]
  }
 ],
 "metadata": {
  "kernelspec": {
   "display_name": "Python 3.9.8 ('.venv': venv)",
   "language": "python",
   "name": "python3"
  },
  "language_info": {
   "codemirror_mode": {
    "name": "ipython",
    "version": 3
   },
   "file_extension": ".py",
   "mimetype": "text/x-python",
   "name": "python",
   "nbconvert_exporter": "python",
   "pygments_lexer": "ipython3",
   "version": "3.9.8"
  },
  "orig_nbformat": 4,
  "vscode": {
   "interpreter": {
    "hash": "f22d6e1ed2f07f99891de3deced0b89877131ec4e9ef94974ed162ef8311fd50"
   }
  }
 },
 "nbformat": 4,
 "nbformat_minor": 2
}
